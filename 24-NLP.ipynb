{
 "cells": [
  {
   "attachments": {},
   "cell_type": "markdown",
   "metadata": {},
   "source": [
    "## 1 - First Program "
   ]
  },
  {
   "cell_type": "code",
   "execution_count": 1,
   "metadata": {},
   "outputs": [
    {
     "name": "stdout",
     "output_type": "stream",
     "text": [
      "Original dataframe is : \n",
      "    patient  obs  treatment   score\n",
      "0        1    1          0  strong\n",
      "1        1    2          1    weak\n",
      "2        1    3          0  normal\n",
      "3        2    1          1    weak\n",
      "4        2    2          0  strong\n",
      "classed found :  ['normal', 'strong', 'weak']\n",
      "equivilant numbers are :  [1 2 0 2 1]\n",
      "Updates dataframe is : \n",
      "    patient  obs  treatment  score\n",
      "0        1    1          0      1\n",
      "1        1    2          1      2\n",
      "2        1    3          0      0\n",
      "3        2    1          1      2\n",
      "4        2    2          0      1\n",
      "Inverse Transform  :  ['weak', 'weak', 'strong']\n"
     ]
    }
   ],
   "source": [
    "from sklearn import preprocessing\n",
    "import pandas as pd\n",
    "raw_data = {'patient': [1, 1, 1, 2, 2],'obs': [1, 2, 3, 1, 2],'treatment': [0, 1, 0, 1, 0],'score': ['strong', 'weak', 'normal', 'weak', 'strong']}\n",
    "df = pd.DataFrame(raw_data, columns = ['patient', 'obs', 'treatment', 'score'])\n",
    "print('Original dataframe is : \\n' ,df )\n",
    "# Create a label (category) encoder object\n",
    "le = preprocessing.LabelEncoder()\n",
    "# Fit the encoder to the pandas column\n",
    "le.fit(df['score'])\n",
    "print('classed found : ' , list(le.classes_))\n",
    "print('equivilant numbers are : ' ,le.transform(df['score']) )\n",
    "df['score'] = le.transform(df['score'])\n",
    "print('Updates dataframe is : \\n' ,df )\n",
    "print('Inverse Transform  : ' ,list(le.inverse_transform([2, 2, 1])))"
   ]
  },
  {
   "attachments": {},
   "cell_type": "markdown",
   "metadata": {},
   "source": [
    "## 2- Example Two"
   ]
  },
  {
   "cell_type": "code",
   "execution_count": 2,
   "metadata": {},
   "outputs": [
    {
     "name": "stdout",
     "output_type": "stream",
     "text": [
      "Original dataframe is : \n",
      "      CustomerID   Genre  Age  Annual Income (k$)  Spending Score (1-100)\n",
      "0             1    Male   19                  15                      39\n",
      "1             2    Male   21                  15                      81\n",
      "2             3  Female   20                  16                       6\n",
      "3             4  Female   23                  16                      77\n",
      "4             5  Female   31                  17                      40\n",
      "..          ...     ...  ...                 ...                     ...\n",
      "195         196  Female   35                 120                      79\n",
      "196         197  Female   45                 126                      28\n",
      "197         198    Male   32                 126                      74\n",
      "198         199    Male   32                 137                      18\n",
      "199         200    Male   30                 137                      83\n",
      "\n",
      "[200 rows x 5 columns]\n",
      "classed found :  ['Female', 'Male']\n",
      "equivilant numbers are :  [1 1 0 0 0 0 0 0 1 0 1 0 0 0 1 1 0 1 1 0 1 1 0 1 0 1 0 1 0 0 1 0 1 1 0 0 0\n",
      " 0 0 0 0 1 1 0 0 0 0 0 0 0 0 1 0 1 0 1 0 1 0 1 1 1 0 0 1 1 0 0 1 0 1 0 0 0\n",
      " 1 1 0 1 0 0 1 1 1 0 0 1 0 0 0 0 0 1 1 0 0 1 0 0 1 1 0 0 1 1 1 0 0 1 1 1 1\n",
      " 0 0 1 0 0 0 0 0 0 1 0 0 1 0 0 1 1 1 1 1 1 0 0 1 0 0 1 1 0 0 1 0 0 1 1 1 0\n",
      " 0 1 1 1 0 0 0 0 1 0 1 0 0 0 1 0 1 0 1 0 0 1 1 1 1 1 0 0 1 1 1 1 0 0 1 0 0\n",
      " 1 0 1 0 0 0 0 1 0 0 0 0 1 1 1]\n",
      "Updates dataframe is : \n",
      "      CustomerID   Genre  Age  Annual Income (k$)  Spending Score (1-100)  \\\n",
      "0             1    Male   19                  15                      39   \n",
      "1             2    Male   21                  15                      81   \n",
      "2             3  Female   20                  16                       6   \n",
      "3             4  Female   23                  16                      77   \n",
      "4             5  Female   31                  17                      40   \n",
      "..          ...     ...  ...                 ...                     ...   \n",
      "195         196  Female   35                 120                      79   \n",
      "196         197  Female   45                 126                      28   \n",
      "197         198    Male   32                 126                      74   \n",
      "198         199    Male   32                 137                      18   \n",
      "199         200    Male   30                 137                      83   \n",
      "\n",
      "     Genre Code  \n",
      "0             1  \n",
      "1             1  \n",
      "2             0  \n",
      "3             0  \n",
      "4             0  \n",
      "..          ...  \n",
      "195           0  \n",
      "196           0  \n",
      "197           1  \n",
      "198           1  \n",
      "199           1  \n",
      "\n",
      "[200 rows x 6 columns]\n",
      "Inverse Transform  :  ['Male', 'Female', 'Male', 'Male', 'Female', 'Female']\n"
     ]
    }
   ],
   "source": [
    "from sklearn.preprocessing import LabelEncoder\n",
    "import pandas as pd\n",
    "data = pd.read_csv('D:\\\\AI\\\\10 القسم العاشر  مكتبة سايكيتليرن Sklearn Library\\\\Materials\\\\Data\\\\2.16 NLP\\\\mall.csv')\n",
    "data.head()\n",
    "df = pd.DataFrame(data)\n",
    "print('Original dataframe is : \\n' ,df )\n",
    "enc  = LabelEncoder()\n",
    "enc.fit(df['Genre'])\n",
    "print('classed found : ' , list(enc.classes_))\n",
    "print('equivilant numbers are : ' ,enc.transform(df['Genre']) )\n",
    "df['Genre Code'] = enc.transform(df['Genre'])\n",
    "print('Updates dataframe is : \\n' ,df )\n",
    "print('Inverse Transform  : ' ,list(enc.inverse_transform([1,0,1,1,0,0])))"
   ]
  },
  {
   "attachments": {},
   "cell_type": "markdown",
   "metadata": {},
   "source": [
    "## 3 - Third Program"
   ]
  },
  {
   "cell_type": "code",
   "execution_count": 3,
   "metadata": {},
   "outputs": [
    {
     "name": "stdout",
     "output_type": "stream",
     "text": [
      "Original dataframe is : \n",
      "      CustomerID   Genre  Age  Annual Income (k$)  Spending Score (1-100)\n",
      "0             1    Male   19                  15                      39\n",
      "1             2    Male   21                  15                      81\n",
      "2             3  Female   20                  16                       6\n",
      "3             4  Female   23                  16                      77\n",
      "4             5  Female   31                  17                      40\n",
      "..          ...     ...  ...                 ...                     ...\n",
      "195         196  Female   35                 120                      79\n",
      "196         197  Female   45                 126                      28\n",
      "197         198    Male   32                 126                      74\n",
      "198         199    Male   32                 137                      18\n",
      "199         200    Male   30                 137                      83\n",
      "\n",
      "[200 rows x 5 columns]\n",
      "Updates dataframe is : \n",
      "      CustomerID   Genre  Age  Annual Income (k$)  Spending Score (1-100)  \\\n",
      "0             1    Male   19                  15                      39   \n",
      "1             2    Male   21                  15                      81   \n",
      "2             3  Female   20                  16                       6   \n",
      "3             4  Female   23                  16                      77   \n",
      "4             5  Female   31                  17                      40   \n",
      "..          ...     ...  ...                 ...                     ...   \n",
      "195         196  Female   35                 120                      79   \n",
      "196         197  Female   45                 126                      28   \n",
      "197         198    Male   32                 126                      74   \n",
      "198         199    Male   32                 137                      18   \n",
      "199         200    Male   30                 137                      83   \n",
      "\n",
      "     Female  male  \n",
      "0       0.0   1.0  \n",
      "1       0.0   1.0  \n",
      "2       1.0   0.0  \n",
      "3       1.0   0.0  \n",
      "4       1.0   0.0  \n",
      "..      ...   ...  \n",
      "195     1.0   0.0  \n",
      "196     1.0   0.0  \n",
      "197     0.0   1.0  \n",
      "198     0.0   1.0  \n",
      "199     0.0   1.0  \n",
      "\n",
      "[200 rows x 7 columns]\n"
     ]
    }
   ],
   "source": [
    "from sklearn.preprocessing import OneHotEncoder\n",
    "import pandas as pd\n",
    "import numpy as np\n",
    "\n",
    "data = pd.read_csv('D:\\\\AI\\\\10 القسم العاشر  مكتبة سايكيتليرن Sklearn Library\\\\Materials\\\\Data\\\\2.16 NLP\\\\mall.csv')\n",
    "data.head()\n",
    "df = pd.DataFrame(data)\n",
    "print('Original dataframe is : \\n' ,df )\n",
    "ohe  = OneHotEncoder()\n",
    "col = np.array(df['Genre'])\n",
    "col = col.reshape(len(col), 1)\n",
    "ohe.fit(col)\n",
    "newmatrix = ohe.transform(col).toarray()\n",
    "newmatrix = newmatrix.T\n",
    "df['Female'] = newmatrix[0]\n",
    "df['male'] = newmatrix[1]\n",
    "print('Updates dataframe is : \\n' ,df )"
   ]
  },
  {
   "attachments": {},
   "cell_type": "markdown",
   "metadata": {},
   "source": [
    "## 4 - Example Four"
   ]
  },
  {
   "cell_type": "code",
   "execution_count": 5,
   "metadata": {},
   "outputs": [
    {
     "name": "stdout",
     "output_type": "stream",
     "text": [
      "(5572,)\n",
      "(5572,)\n",
      "(4179,)\n",
      "(1393,)\n",
      "(4179,)\n",
      "(1393,)\n"
     ]
    },
    {
     "data": {
      "text/plain": [
       "0.9866431000536962"
      ]
     },
     "execution_count": 5,
     "metadata": {},
     "output_type": "execute_result"
    }
   ],
   "source": [
    "from sklearn.feature_extraction.text import CountVectorizer\n",
    "import pandas as pd\n",
    "# read file into pandas using a relative path\n",
    "sms = pd.read_table('D:\\\\AI\\\\10 القسم العاشر  مكتبة سايكيتليرن Sklearn Library\\\\Materials\\\\Data\\\\2.16 NLP\\\\sms.tsv', header=None, names=['label', 'message'])\n",
    "# examine the shape\n",
    "sms.shape\n",
    "# examine the first 10 rows\n",
    "sms.head(10)\n",
    "# examine the class distribution\n",
    "sms.label.value_counts()\n",
    "'''\n",
    "عمل عمود جديد له باسم label_num  يكون فيه 0 او 1 حسب حقيقي ام لا\n",
    "'''\n",
    "# convert label to a numerical variable\n",
    "sms['label_num'] = sms.label.map({'ham':0, 'spam':1})\n",
    "sms.shape\n",
    "# check that the conversion worked\n",
    "sms.head(10)\n",
    "# how to define X and y (from the SMS data) for use with COUNTVECTORIZER\n",
    "X = sms.message\n",
    "y = sms.label_num\n",
    "print(X.shape)\n",
    "print(y.shape)\n",
    "# split X and y into training and testing sets\n",
    "from sklearn.model_selection import train_test_split\n",
    "X_train, X_test, y_train, y_test = train_test_split(X, y, random_state=1)\n",
    "print(X_train.shape)\n",
    "print(X_test.shape)\n",
    "print(y_train.shape)\n",
    "print(y_test.shape)\n",
    "# instantiate the vectorizer\n",
    "vect = CountVectorizer()\n",
    "# learn training data vocabulary, then use it to create a document-term matrix\n",
    "vect.fit(X_train)\n",
    "X_train_dtm = vect.transform(X_train)\n",
    "'''\n",
    "عمل مصفوفة بارص\n",
    "'''\n",
    "# equivalently: combine fit and transform into a single step\n",
    "X_train_dtm = vect.fit_transform(X_train)\n",
    "'''\n",
    "مشاهدة المصفوفة الحقيقية\n",
    "'''\n",
    "# examine the document-term matrix\n",
    "X_train_dtm.toarray()\n",
    "pd.DataFrame(X_train_dtm.toarray(), columns=vect.get_feature_names_out())\n",
    "'''\n",
    "التجريب علي بيانات الاختبار\n",
    "'''\n",
    "# transform testing data (using fitted vocabulary) into a document-term matrix\n",
    "X_test_dtm = vect.transform(X_test)\n",
    "X_test_dtm.toarray()\n",
    "pd.DataFrame(X_test_dtm.toarray(), columns=vect.get_feature_names_out())\n",
    "\n",
    "'''\n",
    "استخدام نايف بايز الملتينوميال\n",
    "'''\n",
    "# import and instantiate a Multinomial Naive Bayes model\n",
    "from sklearn.naive_bayes import MultinomialNB\n",
    "nb = MultinomialNB()\n",
    "# train the model using X_train_dtm (timing it with an IPython \"magic command\")\n",
    "nb.fit(X_train_dtm, y_train)\n",
    "# make class predictions for X_test_dtm\n",
    "y_pred_class = nb.predict(X_test_dtm)\n",
    "# calculate accuracy of class predictions\n",
    "from sklearn import metrics\n",
    "metrics.accuracy_score(y_test, y_pred_class)\n",
    "# print the confusion matrix\n",
    "metrics.confusion_matrix(y_test, y_pred_class)\n",
    "# example false negative\n",
    "X_test[3132]\n",
    "# calculate predicted probabilities for X_test_dtm (poorly calibrated)\n",
    "y_pred_prob = nb.predict_proba(X_test_dtm)[:, 1]\n",
    "y_pred_prob\n",
    "# calculate AUC\n",
    "metrics.roc_auc_score(y_test, y_pred_prob)"
   ]
  }
 ],
 "metadata": {
  "kernelspec": {
   "display_name": "Python 3",
   "language": "python",
   "name": "python3"
  },
  "language_info": {
   "codemirror_mode": {
    "name": "ipython",
    "version": 3
   },
   "file_extension": ".py",
   "mimetype": "text/x-python",
   "name": "python",
   "nbconvert_exporter": "python",
   "pygments_lexer": "ipython3",
   "version": "3.10.0"
  },
  "orig_nbformat": 4,
  "vscode": {
   "interpreter": {
    "hash": "f14a256fa5d2abe453c482b40db541c720d938562dda362430172368847a78a4"
   }
  }
 },
 "nbformat": 4,
 "nbformat_minor": 2
}
