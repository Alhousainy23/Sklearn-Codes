{
 "cells": [
  {
   "cell_type": "code",
   "execution_count": 1,
   "metadata": {},
   "outputs": [
    {
     "name": "stdout",
     "output_type": "stream",
     "text": [
      "MiniBatchKMeansModel Train Score is :  -242.65494581450136\n",
      "MiniBatchKMeansModel Test Score is :  -119.01084757930647\n",
      "MiniBatchKMeansModel centers are :  [[0.75448007 0.7362084 ]\n",
      " [0.2344231  0.16817084]\n",
      " [0.73253855 0.24502333]\n",
      " [0.27044728 0.51996287]\n",
      " [0.25172247 0.86577782]]\n",
      "MiniBatchKMeansModel labels are :  [4 1 3 ... 3 3 2]\n",
      "MiniBatchKMeansModel intertia is :  242.65494581450136\n",
      "MiniBatchKMeansModel No. of iteration is :  1\n",
      "----------------------------------------------------\n",
      "Predicted Value for MiniBatchKMeansModel is :  [0 2 0 0 0 2 0 0 2 0]\n"
     ]
    },
    {
     "name": "stderr",
     "output_type": "stream",
     "text": [
      "c:\\Users\\Alhou\\AppData\\Local\\Programs\\Python\\Python310\\lib\\site-packages\\sklearn\\cluster\\_kmeans.py:870: FutureWarning: The default value of `n_init` will change from 3 to 'auto' in 1.4. Set the value of `n_init` explicitly to suppress the warning\n",
      "  warnings.warn(\n"
     ]
    }
   ],
   "source": [
    "#Import Libraries\n",
    "from sklearn.model_selection import train_test_split\n",
    "from sklearn.cluster import MiniBatchKMeans\n",
    "import numpy as np\n",
    "#----------------------------------------------------\n",
    "# creating data\n",
    "X = np.random.rand(10000,2)\n",
    "y = np.random.rand(10000,0)\n",
    "#----------------------------------------------------\n",
    "#Splitting data\n",
    "X_train, X_test, y_train, y_test = train_test_split(X, y, test_size=0.33, random_state=44, shuffle =True)\n",
    "#Splitted Data\n",
    "#print('X_train shape is ' , X_train.shape)\n",
    "#print('X_test shape is ' , X_test.shape)\n",
    "#print('y_train shape is ' , y_train.shape)\n",
    "#print('y_test shape is ' , y_test.shape)\n",
    "#----------------------------------------------------\n",
    "#Applying MiniBatchKMeans Model \n",
    "'''#sklearn.cluster.MiniBatchKMeans(n_clusters=8, init='k-means++’, max_iter=100,batch_size=100, verbose=0, compute_labels=True,random_state=None, tol=0.0\n",
    ",max_no_improvement=10,init_size=None, n_init=3, reassignment_ratio=0.01)'''\n",
    "MiniBatchKMeansModel = MiniBatchKMeans(n_clusters=5,batch_size=50,init='k-means++') #also can be random\n",
    "MiniBatchKMeansModel.fit(X_train)\n",
    "#Calculating Details\n",
    "print('MiniBatchKMeansModel Train Score is : ' , MiniBatchKMeansModel.score(X_train))\n",
    "print('MiniBatchKMeansModel Test Score is : ' , MiniBatchKMeansModel.score(X_test))\n",
    "print('MiniBatchKMeansModel centers are : ' , MiniBatchKMeansModel.cluster_centers_)\n",
    "print('MiniBatchKMeansModel labels are : ' , MiniBatchKMeansModel.labels_)\n",
    "print('MiniBatchKMeansModel intertia is : ' , MiniBatchKMeansModel.inertia_)\n",
    "print('MiniBatchKMeansModel No. of iteration is : ' , MiniBatchKMeansModel.n_iter_)\n",
    "print('----------------------------------------------------')\n",
    "#Calculating Prediction\n",
    "y_pred = MiniBatchKMeansModel.predict(X_test)\n",
    "print('Predicted Value for MiniBatchKMeansModel is : ' , y_pred[:10])"
   ]
  },
  {
   "cell_type": "code",
   "execution_count": 2,
   "metadata": {},
   "outputs": [
    {
     "name": "stderr",
     "output_type": "stream",
     "text": [
      "c:\\Users\\Alhou\\AppData\\Local\\Programs\\Python\\Python310\\lib\\site-packages\\sklearn\\cluster\\_kmeans.py:870: FutureWarning: The default value of `n_init` will change from 3 to 'auto' in 1.4. Set the value of `n_init` explicitly to suppress the warning\n",
      "  warnings.warn(\n",
      "c:\\Users\\Alhou\\AppData\\Local\\Programs\\Python\\Python310\\lib\\site-packages\\sklearn\\cluster\\_kmeans.py:870: FutureWarning: The default value of `n_init` will change from 3 to 'auto' in 1.4. Set the value of `n_init` explicitly to suppress the warning\n",
      "  warnings.warn(\n"
     ]
    },
    {
     "data": {
      "text/plain": [
       "array([0, 1])"
      ]
     },
     "execution_count": 2,
     "metadata": {},
     "output_type": "execute_result"
    }
   ],
   "source": [
    "from sklearn.cluster import MiniBatchKMeans\n",
    "import numpy as np\n",
    "X = np.array([[1, 2], [1, 4], [1, 0],[4, 2], [4, 0], [4, 4],[4, 5],[0, 1], [2, 2],[3, 2], [5, 5], [1, -1]])\n",
    "kmeans = MiniBatchKMeans(n_clusters=2,batch_size=6)\n",
    "kmeans = kmeans.partial_fit(X[0:6,:])\n",
    "kmeans = kmeans.partial_fit(X[6:12,:])\n",
    "kmeans.cluster_centers_\n",
    "kmeans.predict([[0, 0], [4, 4]])\n",
    "kmeans = MiniBatchKMeans(n_clusters=2,random_state=0,batch_size=6,max_iter=10)\n",
    "kmeans.fit(X)\n",
    "kmeans.cluster_centers_\n",
    "kmeans.predict([[0, 0], [4, 4]])"
   ]
  }
 ],
 "metadata": {
  "kernelspec": {
   "display_name": "Python 3",
   "language": "python",
   "name": "python3"
  },
  "language_info": {
   "codemirror_mode": {
    "name": "ipython",
    "version": 3
   },
   "file_extension": ".py",
   "mimetype": "text/x-python",
   "name": "python",
   "nbconvert_exporter": "python",
   "pygments_lexer": "ipython3",
   "version": "3.10.0"
  },
  "orig_nbformat": 4,
  "vscode": {
   "interpreter": {
    "hash": "f14a256fa5d2abe453c482b40db541c720d938562dda362430172368847a78a4"
   }
  }
 },
 "nbformat": 4,
 "nbformat_minor": 2
}
