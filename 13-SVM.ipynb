{
 "cells": [
  {
   "cell_type": "code",
   "execution_count": 33,
   "metadata": {},
   "outputs": [
    {
     "name": "stdout",
     "output_type": "stream",
     "text": [
      "SVC Model Score Is ==>  0.910761154855643\n",
      "SVC Model Test Score Is ==>  0.898936170212766\n",
      "=======================================================\n",
      "The 30 Values Of Y Test Is ==>\t\t\t [0, 0, 1, 0, 1, 1, 1, 1, 0, 1, 0, 1, 0, 0, 1, 1, 1, 0, 0, 1, 1, 1, 1, 1, 1, 1, 1, 1, 0, 1]\n",
      "The 30 Predictied Values For SVC Model Is ==>    [0, 0, 1, 0, 1, 1, 1, 1, 0, 1, 0, 1, 0, 0, 1, 1, 1, 0, 0, 1, 1, 1, 1, 1, 1, 1, 1, 1, 0, 1]\n",
      "====================================================================\n",
      "\t\t The Confusion Matrix Is \n",
      " [[ 54  14]\n",
      " [  5 115]]\n",
      "======================================================================\n"
     ]
    },
    {
     "name": "stderr",
     "output_type": "stream",
     "text": [
      "c:\\Users\\Alhou\\AppData\\Local\\Programs\\Python\\Python310\\lib\\site-packages\\sklearn\\svm\\_base.py:299: ConvergenceWarning: Solver terminated early (max_iter=2000000).  Consider pre-processing your data with StandardScaler or MinMaxScaler.\n",
      "  warnings.warn(\n"
     ]
    },
    {
     "data": {
      "image/png": "[encoded data removed]",
      "text/plain": [
       "<Figure size 640x480 with 2 Axes>"
      ]
     },
     "metadata": {},
     "output_type": "display_data"
    }
   ],
   "source": [
    "from sklearn.datasets import load_breast_cancer\n",
    "from sklearn.metrics import mean_absolute_error,mean_squared_error,median_absolute_error,confusion_matrix\n",
    "from sklearn.svm import SVC\n",
    "from sklearn.model_selection import train_test_split\n",
    "import matplotlib.pyplot as plt    \n",
    "import seaborn as sns   \n",
    "Bresta_Data = load_breast_cancer()\n",
    "x_data=Bresta_Data.data\n",
    "y_target =Bresta_Data.target        \n",
    "#Splitting Data Into Training & Testing Data \n",
    "x_train,x_test,y_train,y_test= train_test_split(x_data,y_target,test_size=0.33,random_state=44,shuffle=True)\n",
    "#Applying SVC Model \n",
    "SVC_Model = SVC(kernel='poly',max_iter=2000000,C=10,degree=3,gamma='auto')\n",
    "SVC_Model.fit(x_train,y_train)\n",
    "#Calculating Details \n",
    "print('SVC Model Score Is ==> ',SVC_Model.score(x_train,y_train))\n",
    "print('SVC Model Test Score Is ==> ',SVC_Model.score(x_test,y_test))\n",
    "print('=======================================================')\n",
    "#Calculating Predictions \n",
    "y_pred=SVC_Model.predict(x_test)\n",
    "print('The 30 Values Of Y Test Is ==>\\t\\t\\t',list(y_test[:30]))\n",
    "print('The 30 Predictied Values For SVC Model Is ==>   ',list(y_pred[:30]))\n",
    "print('====================================================================')\n",
    "#Calculating Confusion Matrix \n",
    "CM=confusion_matrix(y_test,y_pred)\n",
    "print('\\t\\t The Confusion Matrix Is \\n',CM)\n",
    "#===================================================================================\n",
    "print('======================================================================')\n",
    "#Drawing The Confusion Matrix \n",
    "sns.heatmap(CM,center=True)\n",
    "plt.show()"
   ]
  },
  {
   "cell_type": "code",
   "execution_count": null,
   "metadata": {},
   "outputs": [],
   "source": [
    "#Another Example For Heart\n"
   ]
  }
 ],
 "metadata": {
  "kernelspec": {
   "display_name": "Python 3",
   "language": "python",
   "name": "python3"
  },
  "language_info": {
   "codemirror_mode": {
    "name": "ipython",
    "version": 3
   },
   "file_extension": ".py",
   "mimetype": "text/x-python",
   "name": "python",
   "nbconvert_exporter": "python",
   "pygments_lexer": "ipython3",
   "version": "3.10.0"
  },
  "orig_nbformat": 4,
  "vscode": {
   "interpreter": {
    "hash": "f14a256fa5d2abe453c482b40db541c720d938562dda362430172368847a78a4"
   }
  }
 },
 "nbformat": 4,
 "nbformat_minor": 2
}
