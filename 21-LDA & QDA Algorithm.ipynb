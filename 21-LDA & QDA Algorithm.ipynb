{
 "cells": [
  {
   "attachments": {},
   "cell_type": "markdown",
   "metadata": {},
   "source": [
    "## 1- First ==> How To Write Algorithm LDA==> Linear Discrement Analysis\n",
    "======================================================================\n",
    "\n",
    "### Applying LDA Model \n",
    "### ''' sklearn.discriminant_analysis.LinearDiscriminantAnalysis(solver='svd’,shrinkage=None,priors=None,n_components=None,store_covariance=False,tol=0.0001)'''\n",
    "### LDAModel = LinearDiscriminantAnalysis(n_components=3,solver='svd',tol=0.0001)"
   ]
  },
  {
   "cell_type": "code",
   "execution_count": null,
   "metadata": {},
   "outputs": [],
   "source": [
    "#Import Libraries\n",
    "from sklearn.datasets import load_breast_cancer\n",
    "from sklearn.model_selection import train_test_split\n",
    "from sklearn.discriminant_analysis import LinearDiscriminantAnalysis\n",
    "from sklearn.metrics import confusion_matrix\n",
    "import seaborn as sns\n",
    "import matplotlib.pyplot as plt\n",
    "#----------------------------------------------------\n",
    "#load breast cancer data\n",
    "BreastData = load_breast_cancer()\n",
    "#X Data\n",
    "X = BreastData.data\n",
    "print(X.shape)\n",
    "#print('X Data is \\n' , X[:10])\n",
    "#print('X shape is ' , X.shape)\n",
    "#print('X Features are \\n' , BreastData.feature_names)\n",
    "#y Data\n",
    "y = BreastData.target\n",
    "#print('y Data is \\n' , y[:10])\n",
    "#print('y shape is ' , y.shape)\n",
    "#print('y Columns are \\n' , BreastData.target_names)\n",
    "#----------------------------------------------------\n",
    "#Splitting data\n",
    "X_train, X_test, y_train, y_test = train_test_split(X, y, test_size=0.33, random_state=44, shuffle =True)\n",
    "#Splitted Data\n",
    "#print('X_train shape is ' , X_train.shape)\n",
    "#print('X_test shape is ' , X_test.shape)\n",
    "#print('y_train shape is ' , y_train.shape)\n",
    "#print('y_test shape is ' , y_test.shape)\n",
    "#----------------------------------------------------\n",
    "#Applying LDA Model \n",
    "'''\n",
    "#sklearn.discriminant_analysis.LinearDiscriminantAnalysis(solver='svd’,shrinkage=None,priors=None,\n",
    "#                                                         n_components=None,store_covariance=False,tol=0.0001)\n",
    "'''\n",
    "LDAModel = LinearDiscriminantAnalysis(n_components=568,solver='svd',tol=0.0001)\n",
    "LDAModel.fit(X_train, y_train)\n",
    "#Calculating Details\n",
    "print('LDAModel Train Score is : ' , LDAModel.score(X_train, y_train))\n",
    "print('LDAModel Test Score is : ' , LDAModel.score(X_test, y_test))\n",
    "print('LDAModel means are : ' , LDAModel.means_)\n",
    "print('LDAModel classea are : ' , LDAModel.classes_)\n",
    "print('----------------------------------------------------')\n",
    "#Calculating Prediction\n",
    "y_pred = LDAModel.predict(X_test)\n",
    "y_pred_prob = LDAModel.predict_proba(X_test)\n",
    "print('Predicted Value for LDAModel is : ' , y_pred[:10])\n",
    "print('Prediction Probabilities Value for LDAModel is : ' , y_pred_prob[:10])\n",
    "#----------------------------------------------------\n",
    "#Calculating Confusion Matrix\n",
    "CM = confusion_matrix(y_test, y_pred)\n",
    "print('Confusion Matrix is : \\n', CM)\n",
    "# drawing confusion matrix\n",
    "sns.heatmap(CM, center = True)\n",
    "plt.show()"
   ]
  },
  {
   "attachments": {},
   "cell_type": "markdown",
   "metadata": {},
   "source": [
    "## 2- Sample Example"
   ]
  },
  {
   "cell_type": "code",
   "execution_count": 1,
   "metadata": {},
   "outputs": [
    {
     "name": "stdout",
     "output_type": "stream",
     "text": [
      "[1]\n"
     ]
    }
   ],
   "source": [
    "import numpy as np\n",
    "from sklearn.discriminant_analysis import LinearDiscriminantAnalysis\n",
    "X = np.array([[-1, -1], [-2, -1], [-3, -2], [1, 1], [2, 1], [3, 2]])\n",
    "y = np.array([1, 1, 1, 2, 2, 2])\n",
    "clf = LinearDiscriminantAnalysis()\n",
    "clf.fit(X, y)\n",
    "print(clf.predict([[-0.8, -1]]))"
   ]
  },
  {
   "attachments": {},
   "cell_type": "markdown",
   "metadata": {},
   "source": [
    "## 3-Another Example By Using QDA"
   ]
  },
  {
   "cell_type": "code",
   "execution_count": 2,
   "metadata": {},
   "outputs": [
    {
     "name": "stdout",
     "output_type": "stream",
     "text": [
      "QDAModel Train Score is :  0.9816272965879265\n",
      "QDAModel Test Score is :  0.9414893617021277\n",
      "QDAModel means are :  [[1.70120139e+01 2.13095833e+01 1.12160069e+02 9.30645833e+02\n",
      "  1.02197361e-01 1.41671944e-01 1.50876944e-01 8.29849306e-02\n",
      "  1.92651389e-01 6.27346528e-02 5.78194444e-01 1.17871111e+00\n",
      "  4.08040278e+00 6.74254167e+01 6.61684722e-03 3.22434514e-02\n",
      "  4.03436806e-02 1.49255764e-02 2.03221319e-02 4.02363194e-03\n",
      "  2.06135417e+01 2.92027778e+01 1.37914792e+02 1.35893194e+03\n",
      "  1.45025139e-01 3.83492639e-01 4.43977778e-01 1.80292778e-01\n",
      "  3.26915972e-01 9.27783333e-02]\n",
      " [1.21221730e+01 1.79811392e+01 7.78759072e+01 4.60112236e+02\n",
      "  9.21524051e-02 7.80613502e-02 4.35213869e-02 2.50790970e-02\n",
      "  1.74144726e-01 6.24417300e-02 2.81956540e-01 1.23551983e+00\n",
      "  2.00550295e+00 2.11284219e+01 6.99652743e-03 1.99274852e-02\n",
      "  2.34466270e-02 9.60721097e-03 2.01684346e-02 3.32593291e-03\n",
      "  1.33675274e+01 2.36761603e+01 8.70213924e+01 5.57875949e+02\n",
      "  1.24704684e-01 1.79611519e-01 1.61015873e-01 7.39553629e-02\n",
      "  2.69597468e-01 7.88624473e-02]]\n",
      "----------------------------------------------------\n",
      "Predicted Value for QDAModel is :  [0 0 1 0 1 1 1 1 0 1]\n",
      "Prediction Probabilities Value for QDAModel is :  [[1.00000000e+000 2.15679713e-021]\n",
      " [1.00000000e+000 3.75913796e-133]\n",
      " [1.56944709e-007 9.99999843e-001]\n",
      " [1.00000000e+000 8.47302870e-279]\n",
      " [1.85481503e-003 9.98145185e-001]\n",
      " [7.86018105e-010 9.99999999e-001]\n",
      " [2.24278624e-013 1.00000000e+000]\n",
      " [1.48327334e-001 8.51672666e-001]\n",
      " [1.00000000e+000 1.00838187e-039]\n",
      " [4.43949154e-016 1.00000000e+000]]\n",
      "Confusion Matrix is : \n",
      " [[ 64   4]\n",
      " [  7 113]]\n"
     ]
    },
    {
     "data": {
      "image/png": "[encoded data removed]",
      "text/plain": [
       "<Figure size 640x480 with 2 Axes>"
      ]
     },
     "metadata": {},
     "output_type": "display_data"
    }
   ],
   "source": [
    "#Import Libraries\n",
    "from sklearn.datasets import load_breast_cancer\n",
    "from sklearn.model_selection import train_test_split\n",
    "from sklearn.discriminant_analysis import QuadraticDiscriminantAnalysis\n",
    "from sklearn.metrics import confusion_matrix\n",
    "import seaborn as sns\n",
    "import matplotlib.pyplot as plt\n",
    "#----------------------------------------------------\n",
    "#load breast cancer data\n",
    "BreastData = load_breast_cancer()\n",
    "#X Data\n",
    "X = BreastData.data\n",
    "#print('X Data is \\n' , X[:10])\n",
    "#print('X shape is ' , X.shape)\n",
    "#print('X Features are \\n' , BreastData.feature_names)\n",
    "#y Data\n",
    "y = BreastData.target\n",
    "#print('y Data is \\n' , y[:10])\n",
    "#print('y shape is ' , y.shape)\n",
    "#print('y Columns are \\n' , BreastData.target_names)\n",
    "#----------------------------------------------------\n",
    "#Splitting data\n",
    "X_train, X_test, y_train, y_test = train_test_split(X, y, test_size=0.33, random_state=44, shuffle =True)\n",
    "#Splitted Data\n",
    "#print('X_train shape is ' , X_train.shape)\n",
    "#print('X_test shape is ' , X_test.shape)\n",
    "#print('y_train shape is ' , y_train.shape)\n",
    "#print('y_test shape is ' , y_test.shape)\n",
    "#----------------------------------------------------\n",
    "#Applying QDA Model \n",
    "'''sklearn.discriminant_analysis.QuadraticDiscriminantAnalysis(priors=None,reg_param=0.0,store_covariance=False,tol=0.0001,store_covariances=None)'''\n",
    "QDAModel = QuadraticDiscriminantAnalysis(tol=0.0001)\n",
    "QDAModel.fit(X_train, y_train)\n",
    "#Calculating Details\n",
    "print('QDAModel Train Score is : ' , QDAModel.score(X_train, y_train))\n",
    "print('QDAModel Test Score is : ' , QDAModel.score(X_test, y_test))\n",
    "print('QDAModel means are : ' , QDAModel.means_)\n",
    "print('----------------------------------------------------')\n",
    "#Calculating Prediction\n",
    "y_pred = QDAModel.predict(X_test)\n",
    "y_pred_prob = QDAModel.predict_proba(X_test)\n",
    "print('Predicted Value for QDAModel is : ' , y_pred[:10])\n",
    "print('Prediction Probabilities Value for QDAModel is : ' , y_pred_prob[:10])\n",
    "#----------------------------------------------------\n",
    "#Calculating Confusion Matrix\n",
    "CM = confusion_matrix(y_test, y_pred)\n",
    "print('Confusion Matrix is : \\n', CM)\n",
    "# drawing confusion matrix\n",
    "sns.heatmap(CM, center = True)\n",
    "plt.show()"
   ]
  },
  {
   "attachments": {},
   "cell_type": "markdown",
   "metadata": {},
   "source": [
    "## 4 - Example Bu Using QDA & LDA Algorithm"
   ]
  },
  {
   "cell_type": "code",
   "execution_count": 3,
   "metadata": {},
   "outputs": [
    {
     "name": "stdout",
     "output_type": "stream",
     "text": [
      "Quadratic Score =  0.94\n",
      "Quadratic Prediction =  [1]\n",
      "Linear Score =  0.62\n",
      "Linear Prediction =  [1]\n"
     ]
    },
    {
     "name": "stderr",
     "output_type": "stream",
     "text": [
      "c:\\Users\\Alhou\\AppData\\Local\\Programs\\Python\\Python310\\lib\\site-packages\\sklearn\\utils\\validation.py:1143: DataConversionWarning: A column-vector y was passed when a 1d array was expected. Please change the shape of y to (n_samples, ), for example using ravel().\n",
      "  y = column_or_1d(y, warn=True)\n",
      "c:\\Users\\Alhou\\AppData\\Local\\Programs\\Python\\Python310\\lib\\site-packages\\sklearn\\discriminant_analysis.py:926: UserWarning: Variables are collinear\n",
      "  warnings.warn(\"Variables are collinear\")\n",
      "c:\\Users\\Alhou\\AppData\\Local\\Programs\\Python\\Python310\\lib\\site-packages\\sklearn\\utils\\validation.py:1143: DataConversionWarning: A column-vector y was passed when a 1d array was expected. Please change the shape of y to (n_samples, ), for example using ravel().\n",
      "  y = column_or_1d(y, warn=True)\n"
     ]
    }
   ],
   "source": [
    "\n",
    "import numpy as np\n",
    "from sklearn.discriminant_analysis import QuadraticDiscriminantAnalysis\n",
    "X = np.random.randint(20, size=(50, 10))\n",
    "y = np.random.randint(5, size=(50, 1))\n",
    "Qclf = QuadraticDiscriminantAnalysis()\n",
    "Qclf.fit(X, y)\n",
    "QDAScore = Qclf.score(X,y)\n",
    "print('Quadratic Score = ' , QDAScore )\n",
    "z = np.random.randint(20, size=(1, 10))\n",
    "print('Quadratic Prediction = ' , Qclf.predict(z))\n",
    "###########################################\n",
    "from sklearn.discriminant_analysis import LinearDiscriminantAnalysis\n",
    "Lclf = LinearDiscriminantAnalysis()\n",
    "Lclf.fit(X, y)\n",
    "Lclf.score(X,y)\n",
    "LDAScore = Lclf.score(X,y)\n",
    "print('Linear Score = ' , LDAScore )\n",
    "z = np.random.randint(20, size=(1, 10))\n",
    "print('Linear Prediction = ' , Lclf.predict(z))"
   ]
  }
 ],
 "metadata": {
  "kernelspec": {
   "display_name": "Python 3",
   "language": "python",
   "name": "python3"
  },
  "language_info": {
   "codemirror_mode": {
    "name": "ipython",
    "version": 3
   },
   "file_extension": ".py",
   "mimetype": "text/x-python",
   "name": "python",
   "nbconvert_exporter": "python",
   "pygments_lexer": "ipython3",
   "version": "3.10.0"
  },
  "orig_nbformat": 4,
  "vscode": {
   "interpreter": {
    "hash": "f14a256fa5d2abe453c482b40db541c720d938562dda362430172368847a78a4"
   }
  }
 },
 "nbformat": 4,
 "nbformat_minor": 2
}
