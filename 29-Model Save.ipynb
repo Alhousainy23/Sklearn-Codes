{
 "cells": [
  {
   "cell_type": "code",
   "execution_count": 1,
   "metadata": {},
   "outputs": [
    {
     "data": {
      "text/plain": [
       "array([7.08716011])"
      ]
     },
     "execution_count": 1,
     "metadata": {},
     "output_type": "execute_result"
    }
   ],
   "source": [
    "import sklearn.svm as s\n",
    "import pickle as pk\n",
    "import numpy as np\n",
    "x = np.random.randint(10,size =20).reshape(4,5)\n",
    "y = [5,8,9,6]\n",
    "model = s.SVR()\n",
    "model.fit(x,y)\n",
    "pk.dump(model , open('saved file2.sav','wb'))\n",
    "model.predict([[2,3,6,5,9]])\n",
    "##############################################\n",
    "savedmodel = pk.load(open('saved file2.sav','rb'))\n",
    "savedmodel.predict([[2,3,6,5,9]])"
   ]
  }
 ],
 "metadata": {
  "kernelspec": {
   "display_name": "Python 3",
   "language": "python",
   "name": "python3"
  },
  "language_info": {
   "codemirror_mode": {
    "name": "ipython",
    "version": 3
   },
   "file_extension": ".py",
   "mimetype": "text/x-python",
   "name": "python",
   "nbconvert_exporter": "python",
   "pygments_lexer": "ipython3",
   "version": "3.10.0"
  },
  "orig_nbformat": 4,
  "vscode": {
   "interpreter": {
    "hash": "f14a256fa5d2abe453c482b40db541c720d938562dda362430172368847a78a4"
   }
  }
 },
 "nbformat": 4,
 "nbformat_minor": 2
}
