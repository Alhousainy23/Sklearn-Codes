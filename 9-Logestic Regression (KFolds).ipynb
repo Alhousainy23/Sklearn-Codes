{
 "cells": [
  {
   "cell_type": "code",
   "execution_count": 13,
   "metadata": {},
   "outputs": [
    {
     "name": "stdout",
     "output_type": "stream",
     "text": [
      "\t\t The X Data Is \n",
      " [[1.799e+01 1.038e+01 1.228e+02 1.001e+03 1.184e-01 2.776e-01 3.001e-01\n",
      "  1.471e-01 2.419e-01 7.871e-02 1.095e+00 9.053e-01 8.589e+00 1.534e+02\n",
      "  6.399e-03 4.904e-02 5.373e-02 1.587e-02 3.003e-02 6.193e-03 2.538e+01\n",
      "  1.733e+01 1.846e+02 2.019e+03 1.622e-01 6.656e-01 7.119e-01 2.654e-01\n",
      "  4.601e-01 1.189e-01]\n",
      " [2.057e+01 1.777e+01 1.329e+02 1.326e+03 8.474e-02 7.864e-02 8.690e-02\n",
      "  7.017e-02 1.812e-01 5.667e-02 5.435e-01 7.339e-01 3.398e+00 7.408e+01\n",
      "  5.225e-03 1.308e-02 1.860e-02 1.340e-02 1.389e-02 3.532e-03 2.499e+01\n",
      "  2.341e+01 1.588e+02 1.956e+03 1.238e-01 1.866e-01 2.416e-01 1.860e-01\n",
      "  2.750e-01 8.902e-02]\n",
      " [1.969e+01 2.125e+01 1.300e+02 1.203e+03 1.096e-01 1.599e-01 1.974e-01\n",
      "  1.279e-01 2.069e-01 5.999e-02 7.456e-01 7.869e-01 4.585e+00 9.403e+01\n",
      "  6.150e-03 4.006e-02 3.832e-02 2.058e-02 2.250e-02 4.571e-03 2.357e+01\n",
      "  2.553e+01 1.525e+02 1.709e+03 1.444e-01 4.245e-01 4.504e-01 2.430e-01\n",
      "  3.613e-01 8.758e-02]\n",
      " [1.142e+01 2.038e+01 7.758e+01 3.861e+02 1.425e-01 2.839e-01 2.414e-01\n",
      "  1.052e-01 2.597e-01 9.744e-02 4.956e-01 1.156e+00 3.445e+00 2.723e+01\n",
      "  9.110e-03 7.458e-02 5.661e-02 1.867e-02 5.963e-02 9.208e-03 1.491e+01\n",
      "  2.650e+01 9.887e+01 5.677e+02 2.098e-01 8.663e-01 6.869e-01 2.575e-01\n",
      "  6.638e-01 1.730e-01]]\n",
      "****************************************************************************************************************************************************************\n",
      "The Y Target Data Is ==>  [0 0 0 0 0 0 0 0 0 0 0 0 0 0 0 0 0 0 0 1 1 1 0 0 0 0 0 0 0 0 0 0 0 0 0]\n"
     ]
    }
   ],
   "source": [
    "#Application Using Transform Method \n",
    "import numpy as np \n",
    "from sklearn.datasets import load_breast_cancer\n",
    "from sklearn.linear_model import LogisticRegression\n",
    "from sklearn.metrics import accuracy_score,confusion_matrix\n",
    "from sklearn.preprocessing import FunctionTransformer\n",
    "from sklearn.model_selection import train_test_split\n",
    "data = load_breast_cancer()\n",
    "x_data = data.data\n",
    "y_target = data.target        \n",
    "print('\\t\\t The X Data Is \\n',x_data[:4])\n",
    "print('****'*40)\n",
    "print('The Y Target Data Is ==> ',y_target[:35])"
   ]
  },
  {
   "cell_type": "code",
   "execution_count": 17,
   "metadata": {},
   "outputs": [
    {
     "name": "stdout",
     "output_type": "stream",
     "text": [
      "The Accuracy Score Is  ==>  0.956140350877193\n",
      "The Confusion Matrix Is \n",
      " [[42  3]\n",
      " [ 2 67]]\n"
     ]
    },
    {
     "name": "stderr",
     "output_type": "stream",
     "text": [
      "c:\\Users\\Alhou\\AppData\\Local\\Programs\\Python\\Python310\\lib\\site-packages\\sklearn\\linear_model\\_logistic.py:458: ConvergenceWarning: lbfgs failed to converge (status=1):\n",
      "STOP: TOTAL NO. of ITERATIONS REACHED LIMIT.\n",
      "\n",
      "Increase the number of iterations (max_iter) or scale the data as shown in:\n",
      "    https://scikit-learn.org/stable/modules/preprocessing.html\n",
      "Please also refer to the documentation for alternative solver options:\n",
      "    https://scikit-learn.org/stable/modules/linear_model.html#logistic-regression\n",
      "  n_iter_i = _check_optimize_result(\n"
     ]
    }
   ],
   "source": [
    "#Applying Function Transformer \n",
    "def fun1(z):\n",
    "    #return np.log1p(z)\n",
    "    return np.sqrt(z)\n",
    "    #return np.power(z,4)\n",
    "f=FunctionTransformer(func=fun1)\n",
    "f.fit(x_data)\n",
    "x_f=f.transform(x_data)\n",
    "x_train,x_test,y_train,y_test=train_test_split(x_f,y_target,test_size=0.2)\n",
    "#Applying Logestic Regresssion Model \n",
    "LogReg_Model = LogisticRegression()\n",
    "LogReg_Model.fit(x_train,y_train)\n",
    "result=LogReg_Model.predict(x_test)\n",
    "print('The Accuracy Score Is  ==> ',accuracy_score(y_test,result))\n",
    "cm = confusion_matrix(y_test,result)\n",
    "print('The Confusion Matrix Is \\n',cm)"
   ]
  },
  {
   "cell_type": "code",
   "execution_count": 7,
   "metadata": {},
   "outputs": [
    {
     "name": "stdout",
     "output_type": "stream",
     "text": [
      "\t\t The X Data Is \n",
      "  [[1.799e+01 1.038e+01 1.228e+02 1.001e+03 1.184e-01 2.776e-01 3.001e-01\n",
      "  1.471e-01 2.419e-01 7.871e-02 1.095e+00 9.053e-01 8.589e+00 1.534e+02\n",
      "  6.399e-03 4.904e-02 5.373e-02 1.587e-02 3.003e-02 6.193e-03 2.538e+01\n",
      "  1.733e+01 1.846e+02 2.019e+03 1.622e-01 6.656e-01 7.119e-01 2.654e-01\n",
      "  4.601e-01 1.189e-01]\n",
      " [2.057e+01 1.777e+01 1.329e+02 1.326e+03 8.474e-02 7.864e-02 8.690e-02\n",
      "  7.017e-02 1.812e-01 5.667e-02 5.435e-01 7.339e-01 3.398e+00 7.408e+01\n",
      "  5.225e-03 1.308e-02 1.860e-02 1.340e-02 1.389e-02 3.532e-03 2.499e+01\n",
      "  2.341e+01 1.588e+02 1.956e+03 1.238e-01 1.866e-01 2.416e-01 1.860e-01\n",
      "  2.750e-01 8.902e-02]\n",
      " [1.969e+01 2.125e+01 1.300e+02 1.203e+03 1.096e-01 1.599e-01 1.974e-01\n",
      "  1.279e-01 2.069e-01 5.999e-02 7.456e-01 7.869e-01 4.585e+00 9.403e+01\n",
      "  6.150e-03 4.006e-02 3.832e-02 2.058e-02 2.250e-02 4.571e-03 2.357e+01\n",
      "  2.553e+01 1.525e+02 1.709e+03 1.444e-01 4.245e-01 4.504e-01 2.430e-01\n",
      "  3.613e-01 8.758e-02]\n",
      " [1.142e+01 2.038e+01 7.758e+01 3.861e+02 1.425e-01 2.839e-01 2.414e-01\n",
      "  1.052e-01 2.597e-01 9.744e-02 4.956e-01 1.156e+00 3.445e+00 2.723e+01\n",
      "  9.110e-03 7.458e-02 5.661e-02 1.867e-02 5.963e-02 9.208e-03 1.491e+01\n",
      "  2.650e+01 9.887e+01 5.677e+02 2.098e-01 8.663e-01 6.869e-01 2.575e-01\n",
      "  6.638e-01 1.730e-01]]\n",
      "********************************************************************************************************************************************************************************************************\n",
      "The Y Traget Data Is ==>  [0 0 0 0 0 0 0 0 0 0 0 0 0 0 0 0 0 0 0 1 1 1 0 0 0 0 0 0 0 0 0 0 0 0 0]\n",
      "==========================================================================================\n"
     ]
    }
   ],
   "source": [
    "#Another Example Using Polynomial Features \n",
    "from sklearn.datasets import load_breast_cancer \n",
    "from sklearn.linear_model import LogisticRegression \n",
    "from sklearn.metrics import accuracy_score,confusion_matrix\n",
    "from sklearn.preprocessing import PolynomialFeatures\n",
    "from sklearn.model_selection import train_test_split \n",
    "data1 = load_breast_cancer()\n",
    "x_data1 =   data1.data           \n",
    "y_target1 = data1.target    \n",
    "print('\\t\\t The X Data Is \\n ',x_data1[:4])\n",
    "print('****'*50)\n",
    "print('The Y Traget Data Is ==> ',y_target1[:35])\n",
    "print('==='*30)\n",
    "#Recall Polynomial Features \n",
    "poly = PolynomialFeatures(degree=4,include_bias=True)\n",
    "poly.fit(x_data1)\n",
    "x_poly=poly.transform(x_data1)\n",
    "x1_train,x1_test,y1_train,y1_test=train_test_split(x_poly,y_target1,test_size=0.2)\n"
   ]
  },
  {
   "cell_type": "code",
   "execution_count": 8,
   "metadata": {},
   "outputs": [
    {
     "name": "stderr",
     "output_type": "stream",
     "text": [
      "c:\\Users\\Alhou\\AppData\\Local\\Programs\\Python\\Python310\\lib\\site-packages\\sklearn\\linear_model\\_logistic.py:458: ConvergenceWarning: lbfgs failed to converge (status=2):\n",
      "ABNORMAL_TERMINATION_IN_LNSRCH.\n",
      "\n",
      "Increase the number of iterations (max_iter) or scale the data as shown in:\n",
      "    https://scikit-learn.org/stable/modules/preprocessing.html\n",
      "Please also refer to the documentation for alternative solver options:\n",
      "    https://scikit-learn.org/stable/modules/linear_model.html#logistic-regression\n",
      "  n_iter_i = _check_optimize_result(\n"
     ]
    },
    {
     "name": "stdout",
     "output_type": "stream",
     "text": [
      "The Accuracy Score Is ==>  0.37719298245614036\n",
      "************************************************************************************************************************\n",
      "\t\t The Confusion Matrix Is \n",
      " [[43  0]\n",
      " [71  0]]\n",
      "************************************************************\n",
      "\t\t The Features Names \n",
      "  ['1' 'x0' 'x1' ... 'x28^2 x29^2' 'x28 x29^3' 'x29^4']\n"
     ]
    }
   ],
   "source": [
    "#Applying Logestic Regression \n",
    "LogReg_Model3=LogisticRegression()\n",
    "LogReg_Model3.fit(x1_train,y1_train)\n",
    "result3 = LogReg_Model3.predict(x1_test)\n",
    "print('The Accuracy Score Is ==> ',accuracy_score(y1_test,result3))\n",
    "Cm3 = confusion_matrix(y1_test,result3)\n",
    "print('****'*30)\n",
    "print('\\t\\t The Confusion Matrix Is \\n',Cm3)\n",
    "print('***'*20)\n",
    "names=poly.get_feature_names_out()\n",
    "print('\\t\\t The Features Names \\n ',names)"
   ]
  },
  {
   "cell_type": "code",
   "execution_count": 13,
   "metadata": {},
   "outputs": [
    {
     "name": "stdout",
     "output_type": "stream",
     "text": [
      "\t\t The Selected Features Is Equal \n",
      " [False False  True  True False False False False False False False False\n",
      " False  True False False False False False False  True False  True  True\n",
      " False False False False False False]\n",
      "******************************************************************************************\n",
      "The Accuracy Score Is ==>  0.9298245614035088\n",
      "****************************************\n",
      "\t\t The Confusion Matrix Is \n",
      " [[33  4]\n",
      " [ 4 73]]\n"
     ]
    }
   ],
   "source": [
    "#Another Example Using Selected Features \n",
    "from sklearn.datasets import load_breast_cancer\n",
    "from sklearn.linear_model import LogisticRegression\n",
    "from sklearn.metrics import accuracy_score,confusion_matrix\n",
    "from sklearn.model_selection import train_test_split\n",
    "from sklearn.feature_selection import SelectPercentile,f_classif,chi2\n",
    "data2 = load_breast_cancer()\n",
    "x2_data=data2.data\n",
    "y2_target = data2.target        \n",
    "Sel1 =SelectPercentile(score_func=chi2,percentile=20)\n",
    "Sel2 =SelectPercentile(score_func=chi2,percentile=40)\n",
    "Sel3=SelectPercentile(score_func=chi2,percentile=60)\n",
    "Sel4=SelectPercentile(score_func=chi2,percentile=80)\n",
    "Sel5=SelectPercentile(score_func=f_classif,percentile=20)\n",
    "Sel1.fit(x2_data,y2_target)\n",
    "#Sel2.fit(x2_data,y2_target)\n",
    "#Sel3.fit(x2_data,y2_target)\n",
    "#Sel4.fit(x2_data,y2_target)\n",
    "#Sel5.fit(x2_data,y2_target)\n",
    "selected_features=Sel1.transform(x2_data)\n",
    "SFeatures=Sel1.get_support()\n",
    "print('\\t\\t The Selected Features Is Equal \\n',SFeatures)\n",
    "print('***'*30)\n",
    "#Splitting Into Data To Training & Test Data \n",
    "x2_train,x2_test,y2_train,y2_test=train_test_split(selected_features,y2_target,test_size=0.2)\n",
    "LogReg_Model4=LogisticRegression()\n",
    "LogReg_Model4.fit(x2_train,y2_train)\n",
    "result4=LogReg_Model4.predict(x2_test)\n",
    "print('The Accuracy Score Is ==> ',accuracy_score(y2_test,result4))\n",
    "print('**'*20)\n",
    "conf=confusion_matrix(y2_test,result4)\n",
    "print('\\t\\t The Confusion Matrix Is \\n',conf)\n",
    "\n"
   ]
  },
  {
   "cell_type": "code",
   "execution_count": 14,
   "metadata": {},
   "outputs": [
    {
     "name": "stdout",
     "output_type": "stream",
     "text": [
      "\t\t The Selected Features Is Equal \n",
      " [ True  True  True  True False False False False False False  True False\n",
      "  True  True False False False False False False  True  True  True  True\n",
      " False False  True False False False]\n",
      "******************************************************************************************\n",
      "The Accuracy Score Is ==>  0.956140350877193\n",
      "****************************************\n",
      "\t\t The Confusion Matrix Is \n",
      " [[48  3]\n",
      " [ 2 61]]\n"
     ]
    },
    {
     "name": "stderr",
     "output_type": "stream",
     "text": [
      "c:\\Users\\Alhou\\AppData\\Local\\Programs\\Python\\Python310\\lib\\site-packages\\sklearn\\linear_model\\_logistic.py:458: ConvergenceWarning: lbfgs failed to converge (status=1):\n",
      "STOP: TOTAL NO. of ITERATIONS REACHED LIMIT.\n",
      "\n",
      "Increase the number of iterations (max_iter) or scale the data as shown in:\n",
      "    https://scikit-learn.org/stable/modules/preprocessing.html\n",
      "Please also refer to the documentation for alternative solver options:\n",
      "    https://scikit-learn.org/stable/modules/linear_model.html#logistic-regression\n",
      "  n_iter_i = _check_optimize_result(\n"
     ]
    }
   ],
   "source": [
    "#Another Example Using Selected Features \n",
    "from sklearn.datasets import load_breast_cancer\n",
    "from sklearn.linear_model import LogisticRegression\n",
    "from sklearn.metrics import accuracy_score,confusion_matrix\n",
    "from sklearn.model_selection import train_test_split\n",
    "from sklearn.feature_selection import SelectPercentile,f_classif,chi2\n",
    "data2 = load_breast_cancer()\n",
    "x2_data=data2.data\n",
    "y2_target = data2.target        \n",
    "Sel1 =SelectPercentile(score_func=chi2,percentile=20)\n",
    "Sel2 =SelectPercentile(score_func=chi2,percentile=40)\n",
    "Sel3=SelectPercentile(score_func=chi2,percentile=60)\n",
    "Sel4=SelectPercentile(score_func=chi2,percentile=80)\n",
    "Sel5=SelectPercentile(score_func=f_classif,percentile=20)\n",
    "Sel2.fit(x2_data,y2_target)\n",
    "selected_features=Sel2.transform(x2_data)\n",
    "SFeatures=Sel2.get_support()\n",
    "print('\\t\\t The Selected Features Is Equal \\n',SFeatures)\n",
    "print('***'*30)\n",
    "#Splitting Into Data To Training & Test Data \n",
    "x2_train,x2_test,y2_train,y2_test=train_test_split(selected_features,y2_target,test_size=0.2)\n",
    "LogReg_Model4=LogisticRegression()\n",
    "LogReg_Model4.fit(x2_train,y2_train)\n",
    "result4=LogReg_Model4.predict(x2_test)\n",
    "print('The Accuracy Score Is ==> ',accuracy_score(y2_test,result4))\n",
    "print('**'*20)\n",
    "conf=confusion_matrix(y2_test,result4)\n",
    "print('\\t\\t The Confusion Matrix Is \\n',conf)\n",
    "\n"
   ]
  },
  {
   "cell_type": "code",
   "execution_count": 15,
   "metadata": {},
   "outputs": [
    {
     "name": "stdout",
     "output_type": "stream",
     "text": [
      "\t\t The Selected Features Is Equal \n",
      " [ True  True  True  True False False False False False False  True False\n",
      "  True  True False False False False False False  True  True  True  True\n",
      " False False  True False False False]\n",
      "******************************************************************************************\n",
      "The Accuracy Score Is ==>  0.9210526315789473\n",
      "****************************************\n",
      "\t\t The Confusion Matrix Is \n",
      " [[41  4]\n",
      " [ 5 64]]\n"
     ]
    },
    {
     "name": "stderr",
     "output_type": "stream",
     "text": [
      "c:\\Users\\Alhou\\AppData\\Local\\Programs\\Python\\Python310\\lib\\site-packages\\sklearn\\linear_model\\_logistic.py:458: ConvergenceWarning: lbfgs failed to converge (status=1):\n",
      "STOP: TOTAL NO. of ITERATIONS REACHED LIMIT.\n",
      "\n",
      "Increase the number of iterations (max_iter) or scale the data as shown in:\n",
      "    https://scikit-learn.org/stable/modules/preprocessing.html\n",
      "Please also refer to the documentation for alternative solver options:\n",
      "    https://scikit-learn.org/stable/modules/linear_model.html#logistic-regression\n",
      "  n_iter_i = _check_optimize_result(\n"
     ]
    }
   ],
   "source": [
    "#Another Example Using Selected Features \n",
    "from sklearn.datasets import load_breast_cancer\n",
    "from sklearn.linear_model import LogisticRegression\n",
    "from sklearn.metrics import accuracy_score,confusion_matrix\n",
    "from sklearn.model_selection import train_test_split\n",
    "from sklearn.feature_selection import SelectPercentile,f_classif,chi2\n",
    "data2 = load_breast_cancer()\n",
    "x2_data=data2.data\n",
    "y2_target = data2.target        \n",
    "Sel3=SelectPercentile(score_func=chi2,percentile=60)\n",
    "Sel3.fit(x2_data,y2_target)\n",
    "selected_features=Sel3.transform(x2_data)\n",
    "SFeatures=Sel2.get_support()\n",
    "print('\\t\\t The Selected Features Is Equal \\n',SFeatures)\n",
    "print('***'*30)\n",
    "#Splitting Into Data To Training & Test Data \n",
    "x2_train,x2_test,y2_train,y2_test=train_test_split(selected_features,y2_target,test_size=0.2)\n",
    "LogReg_Model4=LogisticRegression()\n",
    "LogReg_Model4.fit(x2_train,y2_train)\n",
    "result4=LogReg_Model4.predict(x2_test)\n",
    "print('The Accuracy Score Is ==> ',accuracy_score(y2_test,result4))\n",
    "print('**'*20)\n",
    "conf=confusion_matrix(y2_test,result4)\n",
    "print('\\t\\t The Confusion Matrix Is \\n',conf)\n",
    "\n"
   ]
  },
  {
   "cell_type": "code",
   "execution_count": 22,
   "metadata": {},
   "outputs": [
    {
     "name": "stdout",
     "output_type": "stream",
     "text": [
      "\t\t The Selected Features Is Equal \n",
      " [ True  True  True  True False False False False False False  True False\n",
      "  True  True False False False False False False  True  True  True  True\n",
      " False False  True False False False]\n",
      "******************************************************************************************\n",
      "The Accuracy Score Is ==>  0.9298245614035088\n",
      "****************************************\n",
      "===================================================================================\n"
     ]
    },
    {
     "name": "stderr",
     "output_type": "stream",
     "text": [
      "c:\\Users\\Alhou\\AppData\\Local\\Programs\\Python\\Python310\\lib\\site-packages\\sklearn\\linear_model\\_logistic.py:458: ConvergenceWarning: lbfgs failed to converge (status=1):\n",
      "STOP: TOTAL NO. of ITERATIONS REACHED LIMIT.\n",
      "\n",
      "Increase the number of iterations (max_iter) or scale the data as shown in:\n",
      "    https://scikit-learn.org/stable/modules/preprocessing.html\n",
      "Please also refer to the documentation for alternative solver options:\n",
      "    https://scikit-learn.org/stable/modules/linear_model.html#logistic-regression\n",
      "  n_iter_i = _check_optimize_result(\n"
     ]
    }
   ],
   "source": [
    "#Another Example Using Selected Features \n",
    "from sklearn.datasets import load_breast_cancer\n",
    "from sklearn.linear_model import LogisticRegression\n",
    "from sklearn.metrics import accuracy_score,confusion_matrix\n",
    "from sklearn.model_selection import train_test_split\n",
    "from sklearn.feature_selection import SelectPercentile,f_classif,chi2\n",
    "data2 = load_breast_cancer()\n",
    "x2_data=data2.data\n",
    "y2_target = data2.target        \n",
    "Sel5=SelectPercentile(score_func=f_classif,percentile=20)\n",
    "Sel5.fit(x2_data,y2_target)\n",
    "selected_features=Sel5.transform(x2_data)\n",
    "SFeatures=Sel2.get_support()\n",
    "print('\\t\\t The Selected Features Is Equal \\n',SFeatures)\n",
    "print('***'*30)\n",
    "#Splitting Into Data To Training & Test Data \n",
    "x2_train,x2_test,y2_train,y2_test=train_test_split(selected_features,y2_target,test_size=0.2)\n",
    "LogReg_Model4=LogisticRegression()\n",
    "LogReg_Model4.fit(x2_train,y2_train)\n",
    "result4=LogReg_Model4.predict(x2_test)\n",
    "print('The Accuracy Score Is ==> ',accuracy_score(y2_test,result4))\n",
    "print('**'*20)\n",
    "#conf=confusion_matrix(y2_test,result4)\n",
    "#print('\\t\\t The Confusion Matrix Is \\n',conf)\n",
    "print('===================================================================================')\n"
   ]
  }
 ],
 "metadata": {
  "kernelspec": {
   "display_name": "Python 3",
   "language": "python",
   "name": "python3"
  },
  "language_info": {
   "codemirror_mode": {
    "name": "ipython",
    "version": 3
   },
   "file_extension": ".py",
   "mimetype": "text/x-python",
   "name": "python",
   "nbconvert_exporter": "python",
   "pygments_lexer": "ipython3",
   "version": "3.10.0"
  },
  "orig_nbformat": 4,
  "vscode": {
   "interpreter": {
    "hash": "f14a256fa5d2abe453c482b40db541c720d938562dda362430172368847a78a4"
   }
  }
 },
 "nbformat": 4,
 "nbformat_minor": 2
}
