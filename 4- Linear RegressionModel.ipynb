{
 "cells": [
  {
   "cell_type": "code",
   "execution_count": 13,
   "metadata": {},
   "outputs": [
    {
     "name": "stdout",
     "output_type": "stream",
     "text": [
      "   Unnamed: 0     crim    zn  indus  chas    nox     rm   age     dis  rad  \\\n",
      "0           1  0.00632  18.0   2.31     0  0.538  6.575  65.2  4.0900    1   \n",
      "1           2  0.02731   0.0   7.07     0  0.469  6.421  78.9  4.9671    2   \n",
      "2           3  0.02729   0.0   7.07     0  0.469  7.185  61.1  4.9671    2   \n",
      "3           4  0.03237   0.0   2.18     0  0.458  6.998  45.8  6.0622    3   \n",
      "4           5  0.06905   0.0   2.18     0  0.458  7.147  54.2  6.0622    3   \n",
      "\n",
      "   tax  ptratio   black  lstat  medv  \n",
      "0  296     15.3  396.90   4.98  24.0  \n",
      "1  242     17.8  396.90   9.14  21.6  \n",
      "2  242     17.8  392.83   4.03  34.7  \n",
      "3  222     18.7  394.63   2.94  33.4  \n",
      "4  222     18.7  396.90   5.33  36.2  \n",
      "******************************************************************************************\n",
      "(506, 14)\n",
      "   Unnamed: 0     crim    zn  indus  chas    nox     rm   age     dis  rad  \\\n",
      "0           1  0.00632  18.0   2.31     0  0.538  6.575  65.2  4.0900    1   \n",
      "1           2  0.02731   0.0   7.07     0  0.469  6.421  78.9  4.9671    2   \n",
      "2           3  0.02729   0.0   7.07     0  0.469  7.185  61.1  4.9671    2   \n",
      "3           4  0.03237   0.0   2.18     0  0.458  6.998  45.8  6.0622    3   \n",
      "4           5  0.06905   0.0   2.18     0  0.458  7.147  54.2  6.0622    3   \n",
      "\n",
      "   tax  ptratio   black  lstat  \n",
      "0  296     15.3  396.90   4.98  \n",
      "1  242     17.8  396.90   9.14  \n",
      "2  242     17.8  392.83   4.03  \n",
      "3  222     18.7  394.63   2.94  \n",
      "4  222     18.7  396.90   5.33  \n",
      "******************************************************************************************\n",
      "0    24.0\n",
      "1    21.6\n",
      "2    34.7\n",
      "3    33.4\n",
      "4    36.2\n",
      "Name: medv, dtype: float64\n",
      "(506,)\n"
     ]
    }
   ],
   "source": [
    "import pandas as pd     \n",
    "import numpy as np         \n",
    "from sklearn.linear_model import LinearRegression\n",
    "from sklearn.model_selection import train_test_split\n",
    "from sklearn.metrics import mean_absolute_error \n",
    "from sklearn.metrics import mean_squared_error\n",
    "from sklearn.metrics import median_absolute_error \n",
    "dataset = pd.read_csv('D:\\\\Programming\\\\Machine Learning Projects\\\\My Projects\\\\Data\\\\Boston.csv')\n",
    "print(dataset.head())\n",
    "print('***'*30)\n",
    "x_data = dataset.iloc[:,:-1]\n",
    "y_target = dataset.iloc[:,-1] \n",
    "print(x_data.shape)\n",
    "print(x_data[:5])\n",
    "print('***'*30)\n",
    "print(y_target[:5])\n",
    "print(y_target.shape)"
   ]
  },
  {
   "cell_type": "code",
   "execution_count": 19,
   "metadata": {},
   "outputs": [
    {
     "name": "stdout",
     "output_type": "stream",
     "text": [
      "     Unnamed: 0      crim    zn  indus  chas    nox     rm   age     dis  rad  \\\n",
      "470         471   4.34879   0.0  18.10     0  0.580  6.167  84.0  3.0334   24   \n",
      "236         237   0.52058   0.0   6.20     1  0.507  6.631  76.5  4.1480    8   \n",
      "69           70   0.12816  12.5   6.07     0  0.409  5.885  33.0  6.4980    4   \n",
      "125         126   0.16902   0.0  25.65     0  0.581  5.986  88.4  1.9929    2   \n",
      "421         422   7.02259   0.0  18.10     0  0.718  6.006  95.3  1.8746   24   \n",
      "..          ...       ...   ...    ...   ...    ...    ...   ...     ...  ...   \n",
      "59           60   0.10328  25.0   5.13     0  0.453  5.927  47.2  6.9320    8   \n",
      "173         174   0.09178   0.0   4.05     0  0.510  6.416  84.1  2.6463    5   \n",
      "241         242   0.10612  30.0   4.93     0  0.428  6.095  65.1  6.3361    6   \n",
      "419         420  11.81230   0.0  18.10     0  0.718  6.824  76.5  1.7940   24   \n",
      "276         277   0.10469  40.0   6.41     1  0.447  7.267  49.0  4.7872    4   \n",
      "\n",
      "     tax  ptratio   black  lstat  \n",
      "470  666     20.2  396.90  16.29  \n",
      "236  307     17.4  388.45   9.54  \n",
      "69   345     18.9  396.90   8.79  \n",
      "125  188     19.1  385.02  14.81  \n",
      "421  666     20.2  319.98  15.70  \n",
      "..   ...      ...     ...    ...  \n",
      "59   284     19.7  396.90   9.22  \n",
      "173  296     16.6  395.50   9.04  \n",
      "241  300     16.6  394.62  12.40  \n",
      "419  666     20.2   48.45  22.74  \n",
      "276  254     17.6  389.25   6.05  \n",
      "\n",
      "[339 rows x 14 columns]\n",
      "****************************************\n",
      "     Unnamed: 0      crim    zn  indus  chas    nox     rm    age     dis  \\\n",
      "316         317   0.31827   0.0   9.90     0  0.544  5.914   83.2  3.9986   \n",
      "218         219   0.11069   0.0  13.89     1  0.550  5.951   93.8  2.8893   \n",
      "485         486   3.67367   0.0  18.10     0  0.583  6.312   51.9  3.9917   \n",
      "274         275   0.05644  40.0   6.41     1  0.447  6.758   32.9  4.0776   \n",
      "427         428  37.66190   0.0  18.10     0  0.679  6.202   78.7  1.8629   \n",
      "..          ...       ...   ...    ...   ...    ...    ...    ...     ...   \n",
      "418         419  73.53410   0.0  18.10     0  0.679  5.957  100.0  1.8026   \n",
      "133         134   0.32982   0.0  21.89     0  0.624  5.822   95.4  2.4699   \n",
      "161         162   1.46336   0.0  19.58     0  0.605  7.489   90.8  1.9709   \n",
      "448         449   9.32909   0.0  18.10     0  0.713  6.185   98.7  2.2616   \n",
      "502         503   0.04527   0.0  11.93     0  0.573  6.120   76.7  2.2875   \n",
      "\n",
      "     rad  tax  ptratio   black  lstat  \n",
      "316    4  304     18.4  390.70  18.33  \n",
      "218    5  276     16.4  396.90  17.92  \n",
      "485   24  666     20.2  388.62  10.58  \n",
      "274    4  254     17.6  396.90   3.53  \n",
      "427   24  666     20.2   18.82  14.52  \n",
      "..   ...  ...      ...     ...    ...  \n",
      "418   24  666     20.2   16.45  20.62  \n",
      "133    4  437     21.2  388.69  15.03  \n",
      "161    5  403     14.7  374.43   1.73  \n",
      "448   24  666     20.2  396.90  18.13  \n",
      "502    1  273     21.0  396.90   9.08  \n",
      "\n",
      "[167 rows x 14 columns]\n",
      "****************************************\n",
      "470    19.9\n",
      "236    25.1\n",
      "69     20.9\n",
      "125    21.4\n",
      "421    14.2\n",
      "       ... \n",
      "59     19.6\n",
      "173    23.6\n",
      "241    20.1\n",
      "419     8.4\n",
      "276    33.2\n",
      "Name: medv, Length: 339, dtype: float64\n",
      "****************************************\n",
      "316    17.8\n",
      "218    21.5\n",
      "485    21.2\n",
      "274    32.4\n",
      "427    10.9\n",
      "       ... \n",
      "418     8.8\n",
      "133    18.4\n",
      "161    50.0\n",
      "448    14.1\n",
      "502    20.6\n",
      "Name: medv, Length: 167, dtype: float64\n",
      "****************************************\n"
     ]
    }
   ],
   "source": [
    "#Applying Splitting Data \n",
    "X_train,X_test,Y_train,Y_test=train_test_split(x_data,y_target,test_size=0.33,random_state=44,shuffle=True)\n",
    "print(X_train)\n",
    "print('**'*20)\n",
    "print(X_test)\n",
    "print('**'*20)\n",
    "print(Y_train)\n",
    "print('**'*20)\n",
    "print(Y_test)\n",
    "print('**'*20)"
   ]
  },
  {
   "cell_type": "code",
   "execution_count": 17,
   "metadata": {},
   "outputs": [
    {
     "name": "stdout",
     "output_type": "stream",
     "text": [
      "The Linear Regression Train Score Is ==>  0.739177048424339\n",
      "The Linear Regression Test Score Is ==>  0.7183945011139499\n",
      "The Linear Regression Coffiecient Is ==>  [ 5.36216086e-04 -1.52485671e-01  5.82004966e-02 -5.26688212e-02\n",
      "  1.74196891e+00 -1.82800732e+01  3.19005970e+00 -1.03040053e-03\n",
      " -1.78856005e+00  2.98599581e-01 -1.28170308e-02 -8.72121817e-01\n",
      "  1.05875429e-02 -4.69088118e-01]\n",
      "The Linear Regression Intercept Is ==>  40.10689856583211\n",
      "************************************************************************************************************************\n",
      "Predicted Value For Linear Regression Is ==>  [18.18026109 24.33235336 21.30447836 35.1742746  12.00125755 32.4185231\n",
      " 19.68781259 24.87202345 30.72225416 21.71916788]\n",
      "******************************************************************************************\n",
      "The Mean Absolute Error Is ==>  3.647124881213108\n",
      "The Mean Squared Error Is ==>  27.69810921081974\n",
      "The Mean Absolute Error Is ==>  2.597098429728483\n"
     ]
    }
   ],
   "source": [
    "#Applying Linear Regression Model \n",
    "Linear_Regression_Model =LinearRegression(fit_intercept=True,copy_X=True,n_jobs=-1) \n",
    "Linear_Regression_Model.fit(X_train,Y_train)\n",
    "#Calculating Details \n",
    "print('The Linear Regression Train Score Is ==> ',Linear_Regression_Model.score(X_train,Y_train))#The Linear Regression Train Score Is ==>  0.739177048424339\n",
    "print('The Linear Regression Test Score Is ==> ',Linear_Regression_Model.score(X_test,Y_test))#The Linear Regression Test Score Is ==>  0.7183945011139499\n",
    "print('The Linear Regression Coffiecient Is ==> ',Linear_Regression_Model.coef_)\n",
    "'''      \n",
    "The Linear Regression Coffiecient Is ==>  [ 5.36216086e-04 -1.52485671e-01  5.82004966e-02 -5.26688212e-02\n",
    "  1.74196891e+00 -1.82800732e+01  3.19005970e+00 -1.03040053e-03\n",
    " -1.78856005e+00  2.98599581e-01 -1.28170308e-02 -8.72121817e-01\n",
    "  1.05875429e-02 -4.69088118e-01]\n",
    "'''\n",
    "print('The Linear Regression Intercept Is ==> ',Linear_Regression_Model.intercept_)#The Linear Regression Intercept Is ==>  40.10689856583211\n",
    "print('****'*30)\n",
    "#=========================================================================================================\n",
    "#Claculating The Prediction \n",
    "y_pred=Linear_Regression_Model.predict(X_test)\n",
    "print('Predicted Value For Linear Regression Is ==> ',y_pred[:10])\n",
    "#Predicted Value For Linear Regression Is ==>  [18.18026109 24.33235336 21.30447836 35.1742746  12.00125755 32.4185231    19.68781259 24.87202345 30.72225416 21.71916788]\n",
    "#===================================================================================================================\n",
    "print('***'*30)\n",
    "#Calculating The Mean Absolute Error \n",
    "MEA_Value = mean_absolute_error(Y_test,y_pred,multioutput='uniform_average')\n",
    "print('The Mean Absolute Error Is ==> ',MEA_Value)#The Mean Absolute Error Is ==>  3.647124881213108\n",
    "#Calculating The Mean Squared Error \n",
    "MSE_Value = mean_squared_error(Y_test,y_pred,multioutput='uniform_average')\n",
    "print('The Mean Squared Error Is ==> ',MSE_Value)#\n",
    "#Calculating The Median Squared Error\n",
    "MDE_Value = median_absolute_error(Y_test,y_pred,multioutput='uniform_average')\n",
    "print('The Mean Absolute Error Is ==> ',MDE_Value)"
   ]
  },
  {
   "cell_type": "code",
   "execution_count": 21,
   "metadata": {},
   "outputs": [
    {
     "data": {
      "text/plain": [
       "array([16.])"
      ]
     },
     "execution_count": 21,
     "metadata": {},
     "output_type": "execute_result"
    }
   ],
   "source": [
    "#Another Example ==> One Variable \n",
    "import numpy as np\n",
    "from sklearn.linear_model import LinearRegression\n",
    "X = np.array([[1, 1], [1, 2], [2, 2], [2, 3]])\n",
    "# y = 1 * x_0 + 2 * x_1 + 3\n",
    "y = np.dot(X, np.array([1, 2])) + 3\n",
    "reg = LinearRegression(fit_intercept=True)\n",
    "reg.fit(X, y)\n",
    "reg.score(X, y)\n",
    "reg.coef_\n",
    "reg.intercept_\n",
    "reg.predict(np.array([[3, 5]]))\n"
   ]
  },
  {
   "cell_type": "code",
   "execution_count": null,
   "metadata": {},
   "outputs": [],
   "source": []
  }
 ],
 "metadata": {
  "kernelspec": {
   "display_name": "Python 3",
   "language": "python",
   "name": "python3"
  },
  "language_info": {
   "codemirror_mode": {
    "name": "ipython",
    "version": 3
   },
   "file_extension": ".py",
   "mimetype": "text/x-python",
   "name": "python",
   "nbconvert_exporter": "python",
   "pygments_lexer": "ipython3",
   "version": "3.10.0"
  },
  "orig_nbformat": 4,
  "vscode": {
   "interpreter": {
    "hash": "f14a256fa5d2abe453c482b40db541c720d938562dda362430172368847a78a4"
   }
  }
 },
 "nbformat": 4,
 "nbformat_minor": 2
}
