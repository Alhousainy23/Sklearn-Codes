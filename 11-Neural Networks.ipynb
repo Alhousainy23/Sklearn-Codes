{
 "cells": [
  {
   "cell_type": "code",
   "execution_count": 1,
   "metadata": {},
   "outputs": [
    {
     "name": "stdout",
     "output_type": "stream",
     "text": [
      "   Unnamed: 0     crim    zn  indus  chas    nox     rm   age     dis  rad  \\\n",
      "0           1  0.00632  18.0   2.31     0  0.538  6.575  65.2  4.0900    1   \n",
      "1           2  0.02731   0.0   7.07     0  0.469  6.421  78.9  4.9671    2   \n",
      "2           3  0.02729   0.0   7.07     0  0.469  7.185  61.1  4.9671    2   \n",
      "3           4  0.03237   0.0   2.18     0  0.458  6.998  45.8  6.0622    3   \n",
      "4           5  0.06905   0.0   2.18     0  0.458  7.147  54.2  6.0622    3   \n",
      "\n",
      "   tax  ptratio   black  lstat  medv  \n",
      "0  296     15.3  396.90   4.98  24.0  \n",
      "1  242     17.8  396.90   9.14  21.6  \n",
      "2  242     17.8  392.83   4.03  34.7  \n",
      "3  222     18.7  394.63   2.94  33.4  \n",
      "4  222     18.7  396.90   5.33  36.2  \n",
      "******************************************************************************************\n",
      "(506, 14)\n",
      "******************************************************************************************\n",
      "(506,)\n",
      "******************************************************************************************\n"
     ]
    }
   ],
   "source": [
    "import pandas as pd  \n",
    "import numpy as np\n",
    "from sklearn.model_selection import train_test_split\n",
    "from sklearn.neural_network import MLPRegressor\n",
    "from sklearn.metrics import mean_absolute_error ,mean_squared_error,median_absolute_error\n",
    "dataset = pd.read_csv('D:\\\\Programming\\\\Machine Learning Projects\\\\My Projects\\\\Data\\\\Boston.csv')\n",
    "print(dataset.head())\n",
    "print('***'*30)\n",
    "x_data = dataset.iloc[:,:-1]\n",
    "y_target = dataset.iloc[:,-1] \n",
    "print(x_data.shape)\n",
    "#print(x_data[:5])\n",
    "print('***'*30)\n",
    "print(y_target.shape)\n",
    "#print(y_target[:5])\n",
    "print('***'*30)\n",
    "#Applying Splitting Data \n",
    "X_train,X_test,Y_train,Y_test=train_test_split(x_data,y_target,test_size=0.33,random_state=44,shuffle=True)"
   ]
  },
  {
   "cell_type": "code",
   "execution_count": 3,
   "metadata": {},
   "outputs": [
    {
     "name": "stdout",
     "output_type": "stream",
     "text": [
      "MLPRegressorModel Train Score is :  0.7007284666342728\n",
      "MLPRegressorModel Test Score is :  0.6939418536396353\n",
      "MLPRegressorModel loss is :  11.505475475586932\n",
      "MLPRegressorModel No. of iterations is :  200\n",
      "MLPRegressorModel No. of layers is :  4\n",
      "MLPRegressorModel last activation is :  identity\n",
      "----------------------------------------------------\n",
      "Predicted Value for MLPRegressorModel is :  [18.47678766 20.89171504 21.2727315  32.80372433 11.40799747 32.88992835\n",
      " 20.55362064 22.75996926 29.67552272 23.85575881]\n",
      "Mean Absolute Error Value is :  3.6844847289239953\n",
      "Mean Squared Error Value is :  30.10321885149229\n",
      "Median Squared Error Value is :  2.1681057904378775\n"
     ]
    },
    {
     "name": "stderr",
     "output_type": "stream",
     "text": [
      "c:\\Users\\Alhou\\AppData\\Local\\Programs\\Python\\Python310\\lib\\site-packages\\sklearn\\neural_network\\_multilayer_perceptron.py:541: ConvergenceWarning: lbfgs failed to converge (status=1):\n",
      "STOP: TOTAL NO. of ITERATIONS REACHED LIMIT.\n",
      "\n",
      "Increase the number of iterations (max_iter) or scale the data as shown in:\n",
      "    https://scikit-learn.org/stable/modules/preprocessing.html\n",
      "  self.n_iter_ = _check_optimize_result(\"lbfgs\", opt_res, self.max_iter)\n"
     ]
    }
   ],
   "source": [
    "#Applying MLPRegressor Model \n",
    "MLPRegressor_Model=MLPRegressor(activation='identity',solver='lbfgs',learning_rate='constant',early_stopping=False,alpha=0.0001,hidden_layer_sizes=(100,8),random_state=33)\n",
    "MLPRegressor_Model.fit(X_train,Y_train)\n",
    "#Calculating Details\n",
    "print('MLPRegressorModel Train Score is : ' , MLPRegressor_Model.score(X_train, Y_train))\n",
    "print('MLPRegressorModel Test Score is : ' , MLPRegressor_Model.score(X_test, Y_test))\n",
    "print('MLPRegressorModel loss is : ' , MLPRegressor_Model.loss_)\n",
    "print('MLPRegressorModel No. of iterations is : ' , MLPRegressor_Model.n_iter_)\n",
    "print('MLPRegressorModel No. of layers is : ' , MLPRegressor_Model.n_layers_)\n",
    "print('MLPRegressorModel last activation is : ' , MLPRegressor_Model.out_activation_)\n",
    "print('----------------------------------------------------')\n",
    "#Calculating Prediction\n",
    "y_pred = MLPRegressor_Model.predict(X_test)\n",
    "print('Predicted Value for MLPRegressorModel is : ' , y_pred[:10])\n",
    "#----------------------------------------------------\n",
    "#Calculating Mean Absolute Error\n",
    "MAEValue = mean_absolute_error(Y_test, y_pred, multioutput='uniform_average') # it can be raw_values\n",
    "print('Mean Absolute Error Value is : ', MAEValue)\n",
    "#----------------------------------------------------\n",
    "#Calculating Mean Squared Error\n",
    "MSEValue = mean_squared_error(Y_test, y_pred, multioutput='uniform_average') # it can be raw_values\n",
    "print('Mean Squared Error Value is : ', MSEValue)\n",
    "#----------------------------------------------------\n",
    "#Calculating Median Squared Error\n",
    "MdSEValue = median_absolute_error(Y_test, y_pred)\n",
    "print('Median Squared Error Value is : ', MdSEValue )"
   ]
  },
  {
   "cell_type": "code",
   "execution_count": 4,
   "metadata": {},
   "outputs": [
    {
     "name": "stdout",
     "output_type": "stream",
     "text": [
      "x  = \n",
      " (1000, 1)\n",
      "y  = \n",
      " (1000,)\n"
     ]
    },
    {
     "data": {
      "image/png": "[encoded data removed]",
      "text/plain": [
       "<Figure size 640x480 with 1 Axes>"
      ]
     },
     "metadata": {},
     "output_type": "display_data"
    }
   ],
   "source": [
    "#Example Two \n",
    "import numpy as np\n",
    "import matplotlib.pyplot as plt\n",
    "from sklearn.neural_network import MLPRegressor\n",
    "x = np.arange(0.0, 1, 0.001).reshape(-1, 1)\n",
    "y = np.sin(2 * np.pi * x).ravel()\n",
    "print('x  = \\n' ,x.shape)\n",
    "print('y  = \\n' ,y.shape)\n",
    "nn = MLPRegressor(\n",
    "    hidden_layer_sizes=(100,),  activation='relu', solver='adam', alpha=0.001, batch_size='auto',\n",
    "    learning_rate='constant', learning_rate_init=0.01, power_t=0.5, max_iter=1000, shuffle=True,\n",
    "    random_state=0, tol=0.0001, verbose=False, warm_start=False, momentum=0.9, nesterovs_momentum=True,\n",
    "    early_stopping=False, validation_fraction=0.1, beta_1=0.9, beta_2=0.999, epsilon=1e-08)\n",
    "n = nn.fit(x, y)\n",
    "test_x = np.arange(0.0, 1, 0.05).reshape(-1, 1)\n",
    "test_y = nn.predict(test_x)\n",
    "fig = plt.figure()\n",
    "ax1 = fig.add_subplot(111)\n",
    "ax1.scatter(x, y, s=1, c='b', marker=\"s\", label='real')\n",
    "ax1.scatter(test_x,test_y, s=10, c='r', marker=\"o\", label='NN Prediction')\n",
    "plt.show()"
   ]
  },
  {
   "cell_type": "code",
   "execution_count": 5,
   "metadata": {},
   "outputs": [],
   "source": [
    "#Import Libraries\n",
    "from sklearn.datasets import load_iris\n",
    "from sklearn.model_selection import train_test_split\n",
    "from sklearn.neural_network import MLPClassifier\n",
    "from sklearn.metrics import confusion_matrix\n",
    "import seaborn as sns\n",
    "import matplotlib.pyplot as plt\n",
    "#----------------------------------------------------\n",
    "#load iris data\n",
    "IrisData = load_iris()\n",
    "#X Data\n",
    "X = IrisData.data\n",
    "#y Data\n",
    "y = IrisData.target\n",
    "#----------------------------------------------------\n",
    "#Splitting data\n",
    "X_train, X_test, y_train, y_test = train_test_split(X, y, test_size=0.33, random_state=44, shuffle =True)"
   ]
  },
  {
   "cell_type": "code",
   "execution_count": 6,
   "metadata": {},
   "outputs": [
    {
     "name": "stdout",
     "output_type": "stream",
     "text": [
      "MLPClassifierModel Train Score is :  0.98\n",
      "MLPClassifierModel Test Score is :  0.92\n",
      "MLPClassifierModel loss is :  0.1014739091464568\n",
      "MLPClassifierModel No. of iterations is :  200\n",
      "MLPClassifierModel No. of layers is :  4\n",
      "MLPClassifierModel last activation is :  softmax\n",
      "----------------------------------------------------\n",
      "Predicted Value for MLPClassifierModel is :  [2 0 1 1 2 0 2 2 2 2]\n",
      "Prediction Probabilities Value for MLPClassifierModel is :  [[3.78631755e-29 6.79563442e-02 9.32043656e-01]\n",
      " [1.00000000e+00 7.41631128e-25 1.01530243e-30]\n",
      " [3.48780536e-09 9.63862267e-01 3.61377299e-02]\n",
      " [8.43687368e-04 9.92257972e-01 6.89834053e-03]\n",
      " [3.70794349e-29 6.77961425e-02 9.32203858e-01]\n",
      " [1.00000000e+00 7.41601950e-25 1.01521794e-30]\n",
      " [3.70772344e-29 6.77953502e-02 9.32204650e-01]\n",
      " [3.70779545e-29 6.77960363e-02 9.32203964e-01]\n",
      " [3.71544191e-29 6.78115710e-02 9.32188429e-01]\n",
      " [4.94688485e-25 1.87624768e-01 8.12375232e-01]]\n",
      "Confusion Matrix is : \n",
      " [[18  0  0]\n",
      " [ 1 11  3]\n",
      " [ 0  0 17]]\n"
     ]
    },
    {
     "name": "stderr",
     "output_type": "stream",
     "text": [
      "c:\\Users\\Alhou\\AppData\\Local\\Programs\\Python\\Python310\\lib\\site-packages\\sklearn\\neural_network\\_multilayer_perceptron.py:541: ConvergenceWarning: lbfgs failed to converge (status=1):\n",
      "STOP: TOTAL NO. of ITERATIONS REACHED LIMIT.\n",
      "\n",
      "Increase the number of iterations (max_iter) or scale the data as shown in:\n",
      "    https://scikit-learn.org/stable/modules/preprocessing.html\n",
      "  self.n_iter_ = _check_optimize_result(\"lbfgs\", opt_res, self.max_iter)\n"
     ]
    },
    {
     "data": {
      "image/png": "[encoded data removed]",
      "text/plain": [
       "<Figure size 640x480 with 2 Axes>"
      ]
     },
     "metadata": {},
     "output_type": "display_data"
    }
   ],
   "source": [
    "#----------------------------------------------------\n",
    "#Applying MLPClassifier Model \n",
    "'''\n",
    "sklearn.neural_network.MLPClassifier(hidden_layer_sizes=(100, ), activation='relu’, solver=’adam’,alpha=0.0001,batch_size='auto’, learning_rate=’constant’,momentum=0.9,\n",
    "learning_rate_init=0.001, power_t=0.5,max_iter=200, shuffle=True,random_state=None, tol=0.0001, verbose=False, warm_start=False, \n",
    "n_iter_no_change=10, nesterovs_momentum=True,early_stopping=False, validation_fraction=0.1,beta_1=0.9, beta_2=0.999, epsilon=1E-08,)'''\n",
    "MLPClassifierModel = MLPClassifier(activation='tanh', # can be also identity , logistic , relu\n",
    "                                   solver='lbfgs',  # can be also sgd , adam\n",
    "                                   learning_rate='constant', # can be also invscaling , adaptive\n",
    "                                   early_stopping= False,\n",
    "                                   alpha=0.0001 ,hidden_layer_sizes=(100, 3),random_state=33)\n",
    "MLPClassifierModel.fit(X_train, y_train)\n",
    "#Calculating Details\n",
    "print('MLPClassifierModel Train Score is : ' , MLPClassifierModel.score(X_train, y_train))\n",
    "print('MLPClassifierModel Test Score is : ' , MLPClassifierModel.score(X_test, y_test))\n",
    "print('MLPClassifierModel loss is : ' , MLPClassifierModel.loss_)\n",
    "print('MLPClassifierModel No. of iterations is : ' , MLPClassifierModel.n_iter_)\n",
    "print('MLPClassifierModel No. of layers is : ' , MLPClassifierModel.n_layers_)\n",
    "print('MLPClassifierModel last activation is : ' , MLPClassifierModel.out_activation_)\n",
    "print('----------------------------------------------------')\n",
    "#Calculating Prediction\n",
    "y_pred = MLPClassifierModel.predict(X_test)\n",
    "y_pred_prob = MLPClassifierModel.predict_proba(X_test)\n",
    "print('Predicted Value for MLPClassifierModel is : ' , y_pred[:10])\n",
    "print('Prediction Probabilities Value for MLPClassifierModel is : ' , y_pred_prob[:10])\n",
    "#----------------------------------------------------\n",
    "#Calculating Confusion Matrix\n",
    "CM = confusion_matrix(y_test, y_pred)\n",
    "print('Confusion Matrix is : \\n', CM)\n",
    "# drawing confusion matrix\n",
    "sns.heatmap(CM, center = True)\n",
    "plt.show()"
   ]
  },
  {
   "cell_type": "code",
   "execution_count": 8,
   "metadata": {},
   "outputs": [
    {
     "name": "stdout",
     "output_type": "stream",
     "text": [
      "Iteration 1, loss = 11.34406094\n",
      "Iteration 2, loss = 11.37134504\n",
      "Iteration 3, loss = 3.83511946\n",
      "Iteration 4, loss = 2.84626233\n",
      "Iteration 5, loss = 1.59617769\n",
      "Iteration 6, loss = 0.98191110\n",
      "Iteration 7, loss = 1.01197122\n",
      "Iteration 8, loss = 1.18898419\n",
      "Iteration 9, loss = 0.82847246\n",
      "Iteration 10, loss = 0.81903033\n",
      "Iteration 11, loss = 0.68004349\n",
      "Iteration 12, loss = 0.68962666\n",
      "Iteration 13, loss = 0.70416424\n",
      "Iteration 14, loss = 0.66151892\n",
      "Iteration 15, loss = 0.57481294\n",
      "Iteration 16, loss = 0.58470280\n",
      "Iteration 17, loss = 0.56371141\n",
      "Iteration 18, loss = 0.58071918\n",
      "Iteration 19, loss = 0.52035246\n",
      "Iteration 20, loss = 0.51704537\n",
      "Iteration 21, loss = 0.63255104\n",
      "Iteration 22, loss = 0.53954364\n",
      "Iteration 23, loss = 0.64119327\n",
      "Iteration 24, loss = 0.48580134\n",
      "Iteration 25, loss = 0.46236146\n",
      "Iteration 26, loss = 0.48585283\n",
      "Iteration 27, loss = 0.68637440\n",
      "Iteration 28, loss = 0.46051170\n",
      "Iteration 29, loss = 0.43663302\n",
      "Iteration 30, loss = 0.52305096\n",
      "Iteration 31, loss = 0.42397156\n",
      "Iteration 32, loss = 0.40145803\n",
      "Iteration 33, loss = 0.40942498\n",
      "Iteration 34, loss = 0.37330049\n",
      "Iteration 35, loss = 0.41436694\n",
      "Iteration 36, loss = 0.86553185\n",
      "Iteration 37, loss = 0.38224010\n",
      "Iteration 38, loss = 0.45872738\n",
      "Iteration 39, loss = 0.35536497\n",
      "Iteration 40, loss = 0.34286536\n",
      "Iteration 41, loss = 0.35613758\n",
      "Iteration 42, loss = 0.54273565\n",
      "Iteration 43, loss = 0.36073275\n",
      "Iteration 44, loss = 0.36165061\n",
      "Iteration 45, loss = 0.32767489\n",
      "Iteration 46, loss = 0.32671327\n",
      "Iteration 47, loss = 0.54425750\n",
      "Iteration 48, loss = 0.32651154\n",
      "Iteration 49, loss = 0.74959910\n",
      "Iteration 50, loss = 0.42103249\n",
      "Iteration 51, loss = 0.33634646\n",
      "Iteration 52, loss = 0.42335153\n",
      "Iteration 53, loss = 0.31661786\n",
      "Iteration 54, loss = 0.45896262\n",
      "Iteration 55, loss = 0.31349955\n",
      "Iteration 56, loss = 0.36427010\n",
      "Iteration 57, loss = 0.38204099\n",
      "Iteration 58, loss = 0.31016344\n",
      "Iteration 59, loss = 0.32931477\n",
      "Iteration 60, loss = 0.36829084\n",
      "Iteration 61, loss = 0.34888641\n",
      "Iteration 62, loss = 0.31971084\n",
      "Iteration 63, loss = 0.31535435\n",
      "Iteration 64, loss = 0.31777796\n",
      "Iteration 65, loss = 0.33882165\n",
      "Iteration 66, loss = 0.30982199\n",
      "Iteration 67, loss = 0.30357011\n",
      "Iteration 68, loss = 0.30434624\n",
      "Iteration 69, loss = 0.33650504\n",
      "Iteration 70, loss = 0.32704550\n",
      "Iteration 71, loss = 0.30309467\n",
      "Iteration 72, loss = 0.33291151\n",
      "Iteration 73, loss = 0.31084649\n",
      "Iteration 74, loss = 0.34341607\n",
      "Iteration 75, loss = 0.33961054\n",
      "Iteration 76, loss = 0.33946912\n",
      "Iteration 77, loss = 0.41228050\n",
      "Iteration 78, loss = 0.32798779\n",
      "Iteration 79, loss = 0.32622195\n",
      "Iteration 80, loss = 0.38292925\n",
      "Iteration 81, loss = 0.31336483\n",
      "Iteration 82, loss = 0.39193410\n",
      "Training loss did not improve more than tol=0.000000 for 10 consecutive epochs. Stopping.\n"
     ]
    },
    {
     "data": {
      "image/png": "[encoded data removed]",
      "text/plain": [
       "<Figure size 640x480 with 2 Axes>"
      ]
     },
     "metadata": {},
     "output_type": "display_data"
    }
   ],
   "source": [
    "import pandas as pd  \n",
    "import matplotlib.pyplot as plt\n",
    "import seaborn as sns\n",
    "from sklearn.neural_network import MLPClassifier\n",
    "from sklearn.model_selection import train_test_split\n",
    "from sklearn.metrics import accuracy_score ,confusion_matrix\n",
    "df = pd.read_csv('D:\\\\AI\\\\10 القسم العاشر  مكتبة سايكيتليرن Sklearn Library\\\\Materials\\\\Data\\\\2.3 NN\\\\Dataset_spine.csv')\n",
    "df = df.drop(['Unnamed: 13'], axis=1)\n",
    "df.head()\n",
    "df.describe()\n",
    "df = df.drop(['Col7','Col8','Col9','Col10','Col11','Col12'], axis=1)\n",
    "df.head()\n",
    "y = df['Class_att']\n",
    "x = df.drop(['Class_att'], axis=1)\n",
    "x_train, x_test, y_train, y_test = train_test_split(x,y, test_size= 0.25,random_state=27)\n",
    "x_train\n",
    "x_test\n",
    "y_train\n",
    "y_test \n",
    "clf = MLPClassifier(hidden_layer_sizes=(100), max_iter=500, alpha=0.0001,solver='sgd', verbose=10,  random_state=21,tol=0.000000001)\n",
    "clf.fit(x_train, y_train)\n",
    "y_pred = clf.predict(x_test)\n",
    "accuracy_score(y_test, y_pred)\n",
    "cm = confusion_matrix(y_test, y_pred)\n",
    "cm\n",
    "sns.heatmap(cm, center=True)\n",
    "plt.show()"
   ]
  }
 ],
 "metadata": {
  "kernelspec": {
   "display_name": "Python 3",
   "language": "python",
   "name": "python3"
  },
  "language_info": {
   "codemirror_mode": {
    "name": "ipython",
    "version": 3
   },
   "file_extension": ".py",
   "mimetype": "text/x-python",
   "name": "python",
   "nbconvert_exporter": "python",
   "pygments_lexer": "ipython3",
   "version": "3.10.0"
  },
  "orig_nbformat": 4,
  "vscode": {
   "interpreter": {
    "hash": "f14a256fa5d2abe453c482b40db541c720d938562dda362430172368847a78a4"
   }
  }
 },
 "nbformat": 4,
 "nbformat_minor": 2
}
