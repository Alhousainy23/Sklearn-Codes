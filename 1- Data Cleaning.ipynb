{
 "cells": [
  {
   "cell_type": "code",
   "execution_count": 14,
   "metadata": {},
   "outputs": [
    {
     "name": "stdout",
     "output_type": "stream",
     "text": [
      "\t\t The Data Of X After Make Cleaning \n",
      " [[1.799e+01 1.038e+01 1.228e+02 1.001e+03 1.184e-01 2.776e-01 3.001e-01\n",
      "  1.471e-01 2.419e-01 7.871e-02 1.095e+00 9.053e-01 8.589e+00 1.534e+02\n",
      "  6.399e-03 4.904e-02 5.373e-02 1.587e-02 3.003e-02 6.193e-03 2.538e+01\n",
      "  1.733e+01 1.846e+02 2.019e+03 1.622e-01 6.656e-01 7.119e-01 2.654e-01\n",
      "  4.601e-01 1.189e-01]\n",
      " [2.057e+01 1.777e+01 1.329e+02 1.326e+03 8.474e-02 7.864e-02 8.690e-02\n",
      "  7.017e-02 1.812e-01 5.667e-02 5.435e-01 7.339e-01 3.398e+00 7.408e+01\n",
      "  5.225e-03 1.308e-02 1.860e-02 1.340e-02 1.389e-02 3.532e-03 2.499e+01\n",
      "  2.341e+01 1.588e+02 1.956e+03 1.238e-01 1.866e-01 2.416e-01 1.860e-01\n",
      "  2.750e-01 8.902e-02]\n",
      " [1.969e+01 2.125e+01 1.300e+02 1.203e+03 1.096e-01 1.599e-01 1.974e-01\n",
      "  1.279e-01 2.069e-01 5.999e-02 7.456e-01 7.869e-01 4.585e+00 9.403e+01\n",
      "  6.150e-03 4.006e-02 3.832e-02 2.058e-02 2.250e-02 4.571e-03 2.357e+01\n",
      "  2.553e+01 1.525e+02 1.709e+03 1.444e-01 4.245e-01 4.504e-01 2.430e-01\n",
      "  3.613e-01 8.758e-02]\n",
      " [1.142e+01 2.038e+01 7.758e+01 3.861e+02 1.425e-01 2.839e-01 2.414e-01\n",
      "  1.052e-01 2.597e-01 9.744e-02 4.956e-01 1.156e+00 3.445e+00 2.723e+01\n",
      "  9.110e-03 7.458e-02 5.661e-02 1.867e-02 5.963e-02 9.208e-03 1.491e+01\n",
      "  2.650e+01 9.887e+01 5.677e+02 2.098e-01 8.663e-01 6.869e-01 2.575e-01\n",
      "  6.638e-01 1.730e-01]\n",
      " [2.029e+01 1.434e+01 1.351e+02 1.297e+03 1.003e-01 1.328e-01 1.980e-01\n",
      "  1.043e-01 1.809e-01 5.883e-02 7.572e-01 7.813e-01 5.438e+00 9.444e+01\n",
      "  1.149e-02 2.461e-02 5.688e-02 1.885e-02 1.756e-02 5.115e-03 2.254e+01\n",
      "  1.667e+01 1.522e+02 1.575e+03 1.374e-01 2.050e-01 4.000e-01 1.625e-01\n",
      "  2.364e-01 7.678e-02]\n",
      " [1.245e+01 1.570e+01 8.257e+01 4.771e+02 1.278e-01 1.700e-01 1.578e-01\n",
      "  8.089e-02 2.087e-01 7.613e-02 3.345e-01 8.902e-01 2.217e+00 2.719e+01\n",
      "  7.510e-03 3.345e-02 3.672e-02 1.137e-02 2.165e-02 5.082e-03 1.547e+01\n",
      "  2.375e+01 1.034e+02 7.416e+02 1.791e-01 5.249e-01 5.355e-01 1.741e-01\n",
      "  3.985e-01 1.244e-01]\n",
      " [1.825e+01 1.998e+01 1.196e+02 1.040e+03 9.463e-02 1.090e-01 1.127e-01\n",
      "  7.400e-02 1.794e-01 5.742e-02 4.467e-01 7.732e-01 3.180e+00 5.391e+01\n",
      "  4.314e-03 1.382e-02 2.254e-02 1.039e-02 1.369e-02 2.179e-03 2.288e+01\n",
      "  2.766e+01 1.532e+02 1.606e+03 1.442e-01 2.576e-01 3.784e-01 1.932e-01\n",
      "  3.063e-01 8.368e-02]\n",
      " [1.371e+01 2.083e+01 9.020e+01 5.779e+02 1.189e-01 1.645e-01 9.366e-02\n",
      "  5.985e-02 2.196e-01 7.451e-02 5.835e-01 1.377e+00 3.856e+00 5.096e+01\n",
      "  8.805e-03 3.029e-02 2.488e-02 1.448e-02 1.486e-02 5.412e-03 1.706e+01\n",
      "  2.814e+01 1.106e+02 8.970e+02 1.654e-01 3.682e-01 2.678e-01 1.556e-01\n",
      "  3.196e-01 1.151e-01]\n",
      " [1.300e+01 2.182e+01 8.750e+01 5.198e+02 1.273e-01 1.932e-01 1.859e-01\n",
      "  9.353e-02 2.350e-01 7.389e-02 3.063e-01 1.002e+00 2.406e+00 2.432e+01\n",
      "  5.731e-03 3.502e-02 3.553e-02 1.226e-02 2.143e-02 3.749e-03 1.549e+01\n",
      "  3.073e+01 1.062e+02 7.393e+02 1.703e-01 5.401e-01 5.390e-01 2.060e-01\n",
      "  4.378e-01 1.072e-01]\n",
      " [1.246e+01 2.404e+01 8.397e+01 4.759e+02 1.186e-01 2.396e-01 2.273e-01\n",
      "  8.543e-02 2.030e-01 8.243e-02 2.976e-01 1.599e+00 2.039e+00 2.394e+01\n",
      "  7.149e-03 7.217e-02 7.743e-02 1.432e-02 1.789e-02 1.008e-02 1.509e+01\n",
      "  4.068e+01 9.765e+01 7.114e+02 1.853e-01 1.058e+00 1.105e+00 2.210e-01\n",
      "  4.366e-01 2.075e-01]]\n",
      "************************************************************\n"
     ]
    },
    {
     "name": "stderr",
     "output_type": "stream",
     "text": [
      "c:\\Users\\Alhou\\AppData\\Local\\Programs\\Python\\Python310\\lib\\site-packages\\sklearn\\impute\\_base.py:382: FutureWarning: The 'verbose' parameter was deprecated in version 1.1 and will be removed in 1.3. A warning will always be raised upon the removal of empty columns in the future version.\n",
      "  warnings.warn(\n"
     ]
    }
   ],
   "source": [
    "#imported Libraries\n",
    "from sklearn.datasets import load_breast_cancer\n",
    "from sklearn.impute import SimpleImputer\n",
    "import numpy as np \n",
    "Brest_data=load_breast_cancer()\n",
    "x_data=Brest_data.data\n",
    "#y_target=Brest_data.target\n",
    "#Applying Cleaning Data\n",
    "ImputedModule=SimpleImputer(missing_values=np.nan,strategy='mean',verbose=1)\n",
    "ImputedX=ImputedModule.fit_transform(x_data)\n",
    "#ImputedY=ImputedModule.fit_transform(y_target)\n",
    "print('\\t\\t The Data Of X After Make Cleaning \\n',ImputedX[:10])\n",
    "print('**'*30)\n",
    "#print('\\t\\t The Target Data Of Y After Make Cleaning \\n',y_target[:10])"
   ]
  },
  {
   "cell_type": "code",
   "execution_count": 7,
   "metadata": {},
   "outputs": [
    {
     "name": "stdout",
     "output_type": "stream",
     "text": [
      "SimpleImputer(missing_values=0)\n",
      "************************************************************\n",
      "[[1.         2.         4.        ]\n",
      " [3.         3.66666667 1.        ]\n",
      " [5.         3.66666667 4.        ]\n",
      " [3.6        4.         6.        ]\n",
      " [5.         3.66666667 4.        ]\n",
      " [4.         5.         5.        ]]\n",
      "SimpleImputer(missing_values=0, strategy='median')\n",
      "************************************************************\n",
      "[[1. 2. 5.]\n",
      " [3. 4. 1.]\n",
      " [5. 4. 5.]\n",
      " [4. 4. 6.]\n",
      " [5. 4. 5.]\n",
      " [4. 5. 5.]]\n"
     ]
    }
   ],
   "source": [
    "#Second Example \n",
    "from sklearn.impute import SimpleImputer\n",
    "data =[[1,2,0],[3,0,1],\n",
    "       [5,0,0],[0,4,6],\n",
    "       [5,0,0],[4,5,5]]\n",
    "imp=SimpleImputer(missing_values=0,strategy='mean')\n",
    "imp=imp.fit(data)\n",
    "print(imp)\n",
    "print('**'*30)\n",
    "modified_data=imp.transform(data)\n",
    "print(modified_data)\n",
    "#=======================================================================\n",
    "#Same Example But Using Different Strategy (Median)\n",
    "from sklearn.impute import SimpleImputer\n",
    "data1 =[[1,2,0],[3,0,1],\n",
    "       [5,0,0],[0,4,6],\n",
    "       [5,0,0],[4,5,5]]\n",
    "imp1=SimpleImputer(missing_values=0,strategy='median')\n",
    "imp1=imp1.fit(data1)\n",
    "print(imp1)\n",
    "print('**'*30)\n",
    "modified_data1=imp1.transform(data1)\n",
    "print(modified_data1)"
   ]
  },
  {
   "cell_type": "code",
   "execution_count": 15,
   "metadata": {},
   "outputs": [
    {
     "name": "stdout",
     "output_type": "stream",
     "text": [
      "\t\t The Data Before Making Cleaning Is \n",
      " [[ 1.  2. nan]\n",
      " [ 3. nan  1.]\n",
      " [ 5. nan  0.]\n",
      " [nan  4.  6.]\n",
      " [ 5.  0. nan]\n",
      " [ 4.  5.  5.]]\n",
      "************************************************************************************************************************\n",
      "\t\t The Data After Making Cleaning \n",
      " [[1.   2.   3.  ]\n",
      " [3.   2.75 1.  ]\n",
      " [5.   2.75 0.  ]\n",
      " [3.6  4.   6.  ]\n",
      " [5.   0.   3.  ]\n",
      " [4.   5.   5.  ]]\n"
     ]
    },
    {
     "name": "stderr",
     "output_type": "stream",
     "text": [
      "c:\\Users\\Alhou\\AppData\\Local\\Programs\\Python\\Python310\\lib\\site-packages\\sklearn\\impute\\_base.py:382: FutureWarning: The 'verbose' parameter was deprecated in version 1.1 and will be removed in 1.3. A warning will always be raised upon the removal of empty columns in the future version.\n",
      "  warnings.warn(\n"
     ]
    }
   ],
   "source": [
    "#Another Example For Data Cleaning \n",
    "from sklearn.impute import SimpleImputer\n",
    "import numpy as np            \n",
    "data2 = [[1,2,np.nan],\n",
    "        [3,np.nan,1],\n",
    "        [5,np.nan,0],\n",
    "        [np.nan,4,6 ],\n",
    "        [5,0,np.nan],\n",
    "        [4,5,5]]\n",
    "imp3=SimpleImputer(missing_values=np.nan,strategy='mean',verbose=1)\n",
    "imp3=imp3.fit_transform(data2)\n",
    "print('\\t\\t The Data Before Making Cleaning Is \\n',np.array(data2))\n",
    "print('***'*40)\n",
    "print('\\t\\t The Data After Making Cleaning \\n',imp3)"
   ]
  },
  {
   "cell_type": "code",
   "execution_count": null,
   "metadata": {},
   "outputs": [],
   "source": []
  }
 ],
 "metadata": {
  "kernelspec": {
   "display_name": "Python 3",
   "language": "python",
   "name": "python3"
  },
  "language_info": {
   "codemirror_mode": {
    "name": "ipython",
    "version": 3
   },
   "file_extension": ".py",
   "mimetype": "text/x-python",
   "name": "python",
   "nbconvert_exporter": "python",
   "pygments_lexer": "ipython3",
   "version": "3.10.0"
  },
  "orig_nbformat": 4,
  "vscode": {
   "interpreter": {
    "hash": "f14a256fa5d2abe453c482b40db541c720d938562dda362430172368847a78a4"
   }
  }
 },
 "nbformat": 4,
 "nbformat_minor": 2
}
