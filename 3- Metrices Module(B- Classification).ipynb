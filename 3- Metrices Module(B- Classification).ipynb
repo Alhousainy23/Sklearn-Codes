{
 "cells": [
  {
   "cell_type": "code",
   "execution_count": 3,
   "metadata": {},
   "outputs": [
    {
     "name": "stdout",
     "output_type": "stream",
     "text": [
      "[[5 1]\n",
      " [1 3]]\n",
      "******************************************************************************************\n"
     ]
    },
    {
     "data": {
      "image/png": "[encoded data removed]",
      "text/plain": [
       "<Figure size 640x480 with 2 Axes>"
      ]
     },
     "metadata": {},
     "output_type": "display_data"
    }
   ],
   "source": [
    "#First Confusion Matrix \n",
    "from sklearn.metrics import confusion_matrix \n",
    "import seaborn as sns   \n",
    "import matplotlib.pyplot as plt   \n",
    "y_pred = ['a','a','b','b','b','b','a','a','a','a']\n",
    "y_true = ['a','a','b','a','b','b','a','b','a','a']\n",
    "CM1=confusion_matrix(y_pred,y_true)\n",
    "print(CM1)\n",
    "print('***'*30)\n",
    "#Drawing Confusion Matrix \n",
    "sns.heatmap(CM1,center=True)\n",
    "plt.show()"
   ]
  },
  {
   "cell_type": "code",
   "execution_count": 5,
   "metadata": {},
   "outputs": [
    {
     "name": "stdout",
     "output_type": "stream",
     "text": [
      "[[5 1]\n",
      " [1 3]]\n"
     ]
    },
    {
     "data": {
      "image/png": "[encoded data removed]",
      "text/plain": [
       "<Figure size 640x480 with 2 Axes>"
      ]
     },
     "metadata": {},
     "output_type": "display_data"
    }
   ],
   "source": [
    "from sklearn.metrics import confusion_matrix\n",
    "import seaborn as sns    \n",
    "import matplotlib.pyplot as plt   \n",
    "y_pred = ['a','b','c','a','b','c','a','b','c','a']\n",
    "y_true =  ['a','a','b','b','a','b','c','c','b','b']\n",
    "CM2= confusion_matrix(y_true, y_pred)\n",
    "print(CM1)\n",
    "#Drawing \n",
    "sns.heatmap(CM2,center=True)\n",
    "plt.show()"
   ]
  },
  {
   "cell_type": "code",
   "execution_count": 9,
   "metadata": {},
   "outputs": [
    {
     "name": "stdout",
     "output_type": "stream",
     "text": [
      "[[1 0 0 0 0]\n",
      " [0 0 1 0 0]\n",
      " [0 1 0 0 0]\n",
      " [0 0 0 2 0]\n",
      " [0 0 0 0 1]]\n",
      "0.6666666666666666\n",
      "4\n"
     ]
    }
   ],
   "source": [
    "#Second Type Accuracy Score ==> (TP+TN)/(TP+FP+TN+FN)\n",
    "from sklearn.impute import SimpleImputer\n",
    "from sklearn.metrics import confusion_matrix \n",
    "from sklearn.metrics import accuracy_score \n",
    "y_pred = [0, 2, 1, 3,5,3]\n",
    "y_true = [0, 1, 2, 3,5,3]\n",
    "#im=SimpleImputer(missing_values=0,strategy='mean')\n",
    "#imp=im.fit_transform(y_pred)\n",
    "#imp2=im.fit_transform(y_true)\n",
    "CM=confusion_matrix(y_true,y_pred)\n",
    "Ac1=accuracy_score(y_pred,y_true)\n",
    "Ac2=accuracy_score(y_pred,y_true,normalize=False)\n",
    "#print(imp)\n",
    "#print(imp2)\n",
    "print(CM)\n",
    "print(Ac1)\n",
    "print(Ac2)"
   ]
  },
  {
   "cell_type": "code",
   "execution_count": 10,
   "metadata": {},
   "outputs": [
    {
     "name": "stdout",
     "output_type": "stream",
     "text": [
      "0.3333333333333333\n"
     ]
    }
   ],
   "source": [
    "#Three F1 Score ==> (2* p * r)/ (p +r)\n",
    "from sklearn.metrics import f1_score \n",
    "y_pred = [0, 2, 1, 0, 0, 1]\n",
    "y_true = [0, 1, 2, 0, 1, 2]\n",
    "FS=f1_score(y_true, y_pred, average='micro')\n",
    "print(FS)"
   ]
  },
  {
   "cell_type": "code",
   "execution_count": 11,
   "metadata": {},
   "outputs": [
    {
     "name": "stdout",
     "output_type": "stream",
     "text": [
      "The Sensitivit Is ==>  [0.33333333 0.         0.        ]\n",
      "The Specificity Is ==>  [0.25 0.   0.  ]\n"
     ]
    }
   ],
   "source": [
    "#Fourth ==> Recall And Prescion ==> (Sensitivity & Specificity)\n",
    "from sklearn.metrics import recall_score \n",
    "from sklearn.metrics import precision_score\n",
    "y_pred =   ['a','b','c','a','b','c','a','b','c','a']\n",
    "y_true =   ['a','a','b','b','a','b','c','c','b','b']\n",
    "Sen = recall_score(y_true,y_pred,average=None)\n",
    "spc=precision_score(y_true,y_pred,average=None)\n",
    "print('The Sensitivit Is ==> ',Sen)\n",
    "print('The Specificity Is ==> ',spc)"
   ]
  },
  {
   "cell_type": "code",
   "execution_count": 15,
   "metadata": {},
   "outputs": [
    {
     "name": "stdout",
     "output_type": "stream",
     "text": [
      "The Result Is ==> \n",
      " (array([1., 0., 0.]), array([0.66666667, 0.        , 0.        ]), array([0.8, 0. , 0. ]), array([3, 2, 1], dtype=int64))\n",
      "******************************************************************************************\n",
      "The Value Of Precision Is ==>  [0.5        0.66666667 0.5        1.         1.        ]\n",
      "The Value Of Recall Is ==>  [1.  1.  0.5 0.5 0. ]\n",
      "The Value Of Threshold Is ==>  [0.1  0.35 0.4  0.8 ]\n"
     ]
    }
   ],
   "source": [
    "#Fifth ==> Presision - Recall - Fscore Suuport \n",
    "from sklearn.metrics import precision_recall_fscore_support\n",
    "import numpy as np      \n",
    "y_pred=np.array(['cat', 'pig', 'dog', 'cat', 'cat', 'dog'])\n",
    "y_true=np.array(['cat', 'dog', 'pig', 'cat', 'dog', 'pig'])\n",
    "result =precision_recall_fscore_support(y_pred,y_true)\n",
    "print('The Result Is ==> \\n',result )\n",
    "#Precision ==> array([1., 0., 0.])\n",
    "#Recall ==>array([0.66666667, 0.        , 0.        ])\n",
    "#F1Score ==> array([0.8, 0. , 0. ])\n",
    "#Support ==> array([3, 2, 1], dtype=int64))\n",
    "#=============================================================================\n",
    "print('***'*30)\n",
    "#Sixth ==> Presision - Recall Curve ==> Calculate Three Values (Prescision - Recall - Threshold)\n",
    "from sklearn.metrics import precision_recall_curve\n",
    "y_pred1=np.array([0,0,1,1])\n",
    "y_true1= np.array([0.1,0.4,0.35,0.8])\n",
    "precision,recall,threshold=precision_recall_curve(y_pred1,y_true1)\n",
    "print('The Value Of Precision Is ==> ',precision)#The Value Of Precision Is ==>  [0.5        0.66666667 0.5        1.         1.        ]\n",
    "print('The Value Of Recall Is ==> ',recall)#The Value Of Recall Is ==>  [1.  1.  0.5 0.5 0. ]\n",
    "print('The Value Of Threshold Is ==> ',threshold)#The Value Of Threshold Is ==>  [0.1  0.35 0.4  0.8 ]"
   ]
  },
  {
   "cell_type": "code",
   "execution_count": 17,
   "metadata": {},
   "outputs": [
    {
     "name": "stdout",
     "output_type": "stream",
     "text": [
      "\t\tThe Classification Report Is \n",
      "               precision    recall  f1-score   support\n",
      "\n",
      "           0       0.33      1.00      0.50         1\n",
      "           1       0.00      0.00      0.00         1\n",
      "           2       1.00      0.67      0.80         3\n",
      "           5       0.00      0.00      0.00         1\n",
      "\n",
      "    accuracy                           0.50         6\n",
      "   macro avg       0.33      0.42      0.33         6\n",
      "weighted avg       0.56      0.50      0.48         6\n",
      "\n",
      "************************************************************\n",
      "\t\t The Classifiaction Report \n",
      "               precision    recall  f1-score   support\n",
      "\n",
      "           a       0.50      0.33      0.40         3\n",
      "           b       0.00      0.00      0.00         1\n",
      "           d       0.00      0.00      0.00         1\n",
      "           g       0.33      1.00      0.50         1\n",
      "\n",
      "    accuracy                           0.33         6\n",
      "   macro avg       0.21      0.33      0.23         6\n",
      "weighted avg       0.31      0.33      0.28         6\n",
      "\n"
     ]
    },
    {
     "name": "stderr",
     "output_type": "stream",
     "text": [
      "c:\\Users\\Alhou\\AppData\\Local\\Programs\\Python\\Python310\\lib\\site-packages\\sklearn\\metrics\\_classification.py:1344: UndefinedMetricWarning: Precision and F-score are ill-defined and being set to 0.0 in labels with no predicted samples. Use `zero_division` parameter to control this behavior.\n",
      "  _warn_prf(average, modifier, msg_start, len(result))\n",
      "c:\\Users\\Alhou\\AppData\\Local\\Programs\\Python\\Python310\\lib\\site-packages\\sklearn\\metrics\\_classification.py:1344: UndefinedMetricWarning: Precision and F-score are ill-defined and being set to 0.0 in labels with no predicted samples. Use `zero_division` parameter to control this behavior.\n",
      "  _warn_prf(average, modifier, msg_start, len(result))\n",
      "c:\\Users\\Alhou\\AppData\\Local\\Programs\\Python\\Python310\\lib\\site-packages\\sklearn\\metrics\\_classification.py:1344: UndefinedMetricWarning: Precision and F-score are ill-defined and being set to 0.0 in labels with no predicted samples. Use `zero_division` parameter to control this behavior.\n",
      "  _warn_prf(average, modifier, msg_start, len(result))\n",
      "c:\\Users\\Alhou\\AppData\\Local\\Programs\\Python\\Python310\\lib\\site-packages\\sklearn\\metrics\\_classification.py:1344: UndefinedMetricWarning: Precision and F-score are ill-defined and being set to 0.0 in labels with no predicted samples. Use `zero_division` parameter to control this behavior.\n",
      "  _warn_prf(average, modifier, msg_start, len(result))\n",
      "c:\\Users\\Alhou\\AppData\\Local\\Programs\\Python\\Python310\\lib\\site-packages\\sklearn\\metrics\\_classification.py:1344: UndefinedMetricWarning: Precision and F-score are ill-defined and being set to 0.0 in labels with no predicted samples. Use `zero_division` parameter to control this behavior.\n",
      "  _warn_prf(average, modifier, msg_start, len(result))\n",
      "c:\\Users\\Alhou\\AppData\\Local\\Programs\\Python\\Python310\\lib\\site-packages\\sklearn\\metrics\\_classification.py:1344: UndefinedMetricWarning: Precision and F-score are ill-defined and being set to 0.0 in labels with no predicted samples. Use `zero_division` parameter to control this behavior.\n",
      "  _warn_prf(average, modifier, msg_start, len(result))\n"
     ]
    }
   ],
   "source": [
    "#Seventh ==> Classification Report \n",
    "from sklearn.metrics import classification_report\n",
    "y_true =[0,1,2,2,2,5]\n",
    "y_pred =[0,0,2,2,1,0]\n",
    "print('\\t\\tThe Classification Report Is \\n',classification_report(y_true,y_pred,labels=None))\n",
    "print('**'*30)\n",
    "y_true1=['a','b','a','g','a','d']\n",
    "y_pred1=['a','a','g','g','d','g']\n",
    "print('\\t\\t The Classifiaction Report \\n',classification_report(y_true1,y_pred1,labels=None))"
   ]
  },
  {
   "cell_type": "code",
   "execution_count": null,
   "metadata": {},
   "outputs": [],
   "source": []
  }
 ],
 "metadata": {
  "kernelspec": {
   "display_name": "Python 3",
   "language": "python",
   "name": "python3"
  },
  "language_info": {
   "codemirror_mode": {
    "name": "ipython",
    "version": 3
   },
   "file_extension": ".py",
   "mimetype": "text/x-python",
   "name": "python",
   "nbconvert_exporter": "python",
   "pygments_lexer": "ipython3",
   "version": "3.10.0"
  },
  "orig_nbformat": 4,
  "vscode": {
   "interpreter": {
    "hash": "f14a256fa5d2abe453c482b40db541c720d938562dda362430172368847a78a4"
   }
  }
 },
 "nbformat": 4,
 "nbformat_minor": 2
}
