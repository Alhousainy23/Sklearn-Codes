{
 "cells": [
  {
   "cell_type": "code",
   "execution_count": 2,
   "metadata": {},
   "outputs": [
    {
     "name": "stdout",
     "output_type": "stream",
     "text": [
      "   Unnamed: 0     crim    zn  indus  chas    nox     rm   age     dis  rad  \\\n",
      "0           1  0.00632  18.0   2.31     0  0.538  6.575  65.2  4.0900    1   \n",
      "1           2  0.02731   0.0   7.07     0  0.469  6.421  78.9  4.9671    2   \n",
      "2           3  0.02729   0.0   7.07     0  0.469  7.185  61.1  4.9671    2   \n",
      "3           4  0.03237   0.0   2.18     0  0.458  6.998  45.8  6.0622    3   \n",
      "4           5  0.06905   0.0   2.18     0  0.458  7.147  54.2  6.0622    3   \n",
      "\n",
      "   tax  ptratio   black  lstat  medv  \n",
      "0  296     15.3  396.90   4.98  24.0  \n",
      "1  242     17.8  396.90   9.14  21.6  \n",
      "2  242     17.8  392.83   4.03  34.7  \n",
      "3  222     18.7  394.63   2.94  33.4  \n",
      "4  222     18.7  396.90   5.33  36.2  \n",
      "******************************************************************************************\n",
      "(506, 14)\n",
      "******************************************************************************************\n",
      "(506,)\n",
      "******************************************************************************************\n"
     ]
    }
   ],
   "source": [
    "#Import Libraries\n",
    "import pandas as pd\n",
    "from sklearn.model_selection import train_test_split\n",
    "from sklearn.svm import SVR\n",
    "from sklearn.metrics import mean_absolute_error \n",
    "from sklearn.metrics import mean_squared_error \n",
    "from sklearn.metrics import median_absolute_error\n",
    "#----------------------------------------------------\n",
    "dataset = pd.read_csv('D:\\\\Programming\\\\Machine Learning Projects\\\\My Projects\\\\Data\\\\Boston.csv')\n",
    "print(dataset.head())\n",
    "print('***'*30)\n",
    "x_data = dataset.iloc[:,:-1]\n",
    "y_target = dataset.iloc[:,-1] \n",
    "print(x_data.shape)\n",
    "#print(x_data[:5])\n",
    "print('***'*30)\n",
    "print(y_target.shape)\n",
    "#print(y_target[:5])\n",
    "print('***'*30)\n",
    "#Applying Splitting Data \n",
    "X_train,X_test,Y_train,Y_test=train_test_split(x_data,y_target,test_size=0.33,random_state=44,shuffle=True)"
   ]
  },
  {
   "cell_type": "code",
   "execution_count": 3,
   "metadata": {},
   "outputs": [
    {
     "name": "stdout",
     "output_type": "stream",
     "text": [
      "SVRModel Train Score is :  0.6837211595318933\n",
      "SVRModel Test Score is :  0.6894048249455024\n",
      "----------------------------------------------------\n",
      "Predicted Value for SVRModel is :  [17.52430649 20.99703887 21.70584189 33.02665523 13.26808143 32.13724288\n",
      " 20.35034457 21.85137299 30.13044713 20.81134265]\n",
      "Mean Absolute Error Value is :  3.5799202052957977\n",
      "Mean Squared Error Value is :  30.54947120366517\n",
      "Median Squared Error Value is :  2.231490769762255\n"
     ]
    }
   ],
   "source": [
    "#Applying SVR Model \n",
    "'''sklearn.svm.SVR(kernel=’rbf’, degree=3, gamma=’auto_deprecated’, coef0=0.0, tol=0.001,C=1.0, epsilon=0.1, shrinking=True, cache_size=200, verbose=False,max_iter=-1)'''\n",
    "SVRModel = SVR(C = 20 ,epsilon=0.1,kernel = 'linear') # it also can be : linear, poly, rbf, sigmoid, precomputed\n",
    "SVRModel.fit(X_train, Y_train)\n",
    "#Calculating Details\n",
    "print('SVRModel Train Score is : ' , SVRModel.score(X_train, Y_train))\n",
    "print('SVRModel Test Score is : ' , SVRModel.score(X_test, Y_test))\n",
    "print('----------------------------------------------------')\n",
    "#Calculating Prediction\n",
    "y_pred = SVRModel.predict(X_test)\n",
    "print('Predicted Value for SVRModel is : ' , y_pred[:10])\n",
    "#----------------------------------------------------\n",
    "#Calculating Mean Absolute Error\n",
    "MAEValue = mean_absolute_error(Y_test, y_pred, multioutput='uniform_average') # it can be raw_values\n",
    "print('Mean Absolute Error Value is : ', MAEValue)\n",
    "#----------------------------------------------------\n",
    "#Calculating Mean Squared Error\n",
    "MSEValue = mean_squared_error(Y_test, y_pred, multioutput='uniform_average') # it can be raw_values\n",
    "print('Mean Squared Error Value is : ', MSEValue)\n",
    "#----------------------------------------------------\n",
    "#Calculating Median Squared Error\n",
    "MdSEValue = median_absolute_error(Y_test, y_pred)\n",
    "print('Median Squared Error Value is : ', MdSEValue )"
   ]
  },
  {
   "cell_type": "code",
   "execution_count": 4,
   "metadata": {},
   "outputs": [
    {
     "name": "stdout",
     "output_type": "stream",
     "text": [
      "[[-1.0797781  -0.69342441 -2.33804615  1.66226234 -0.27535274 -0.74657045\n",
      "   1.22510346 -0.11043246 -1.27348939  0.03178615]]  \n",
      "  [1.16536658]\n"
     ]
    }
   ],
   "source": [
    "from sklearn.svm import SVR\n",
    "import numpy as np\n",
    "n_samples=10\n",
    "n_features = 10\n",
    "np.random.seed(0)\n",
    "y = np.random.randn(n_samples)\n",
    "X = np.random.randn(n_samples, n_features)\n",
    "X.shape\n",
    "y\n",
    "clf = SVR(gamma='scale', C=1.0, epsilon=0.2)\n",
    "clf.fit(X, y)\n",
    "newx = np.random.randn(1,10)\n",
    "y_pred = clf.predict(newx)\n",
    "print(newx , ' \\n ' ,y_pred)"
   ]
  },
  {
   "cell_type": "code",
   "execution_count": 5,
   "metadata": {},
   "outputs": [
    {
     "data": {
      "text/plain": [
       "array([-5.47914305])"
      ]
     },
     "execution_count": 5,
     "metadata": {},
     "output_type": "execute_result"
    }
   ],
   "source": [
    "# Importing the libraries\n",
    "import numpy as np\n",
    "import pandas as pd\n",
    "dataset = pd.read_csv('D:\\\\AI\\\\10 القسم العاشر  مكتبة سايكيتليرن Sklearn Library\\\\Materials\\\\Data\\\\2.4 SVR\\\\Earthquakes.csv')\n",
    "dataset.head(20)\n",
    "from sklearn.impute import SimpleImputer\n",
    "imp = SimpleImputer(missing_values=np.nan, strategy='mean')\n",
    "imp = imp.fit(dataset)\n",
    "dataset = imp.transform(dataset)\n",
    "from sklearn.preprocessing import StandardScaler\n",
    "sc = StandardScaler()\n",
    "dataset = sc.fit_transform(dataset)\n",
    "X = dataset[:, :-1]\n",
    "y = dataset[:, -1]\n",
    "from sklearn.svm import SVR\n",
    "clf = SVR(kernel = 'linear')\n",
    "clf.fit(X, y)\n",
    "y_pred = clf.predict([[90,12,12,-5,54,0.3,0.9,3.5,16.2,10]]) \n",
    "y_pred"
   ]
  },
  {
   "cell_type": "code",
   "execution_count": 6,
   "metadata": {},
   "outputs": [
    {
     "data": {
      "text/plain": [
       "array([9.07528048])"
      ]
     },
     "execution_count": 6,
     "metadata": {},
     "output_type": "execute_result"
    }
   ],
   "source": [
    "\n",
    "# Importing the libraries\n",
    "import numpy as np\n",
    "import pandas as pd\n",
    "dataset = pd.read_csv('D:\\\\AI\\\\10 القسم العاشر  مكتبة سايكيتليرن Sklearn Library\\\\Materials\\\\Data\\\\2.4 SVR\\\\satf.csv')\n",
    "dataset.head(20)\n",
    "from sklearn.impute import SimpleImputer\n",
    "imp = SimpleImputer(missing_values=np.nan, strategy='mean')\n",
    "imp = imp.fit(dataset)\n",
    "dataset = imp.transform(dataset)\n",
    "from sklearn.preprocessing import StandardScaler\n",
    "sc = StandardScaler()\n",
    "dataset = sc.fit_transform(dataset)\n",
    "X = dataset[:, :-1]\n",
    "y = dataset[:, -1]\n",
    "from sklearn.svm import SVR\n",
    "clf = SVR(kernel = 'linear')\n",
    "clf.fit(X, y)\n",
    "y_pred = clf.predict([[3.48,684,649,3.61]]) \n",
    "y_pred"
   ]
  },
  {
   "cell_type": "code",
   "execution_count": 7,
   "metadata": {},
   "outputs": [
    {
     "data": {
      "text/plain": [
       "311.89373461268065"
      ]
     },
     "execution_count": 7,
     "metadata": {},
     "output_type": "execute_result"
    }
   ],
   "source": [
    "\n",
    "# Importing the libraries\n",
    "import numpy as np\n",
    "import pandas as pd\n",
    "dataset = pd.read_csv('D:\\\\AI\\\\10 القسم العاشر  مكتبة سايكيتليرن Sklearn Library\\\\Materials\\\\Data\\\\2.4 SVR\\\\houses.csv')\n",
    "dataset.head(20)\n",
    "from sklearn.impute import SimpleImputer\n",
    "imp = SimpleImputer(missing_values=np.nan, strategy='mean')\n",
    "imp = imp.fit(dataset)\n",
    "dataset = imp.transform(dataset)\n",
    "X = dataset[:, :-1]\n",
    "y = dataset[:, -1]\n",
    "from sklearn.preprocessing import StandardScaler\n",
    "sc = StandardScaler()\n",
    "X = sc.fit_transform(X)\n",
    "from sklearn.model_selection import train_test_split\n",
    "X_train, X_test, y_train, y_test = train_test_split(X, y, test_size=0.33, random_state=42)\n",
    "from sklearn.svm import SVR\n",
    "clf = SVR(kernel = 'linear')\n",
    "clf.fit(X_train, y_train)\n",
    "y_pred = clf.predict(X_test) \n",
    "y_pred\n",
    "from sklearn.metrics import mean_absolute_error\n",
    "mean_absolute_error(y_test, y_pred)\n",
    "from sklearn.metrics import mean_squared_error\n",
    "mean_squared_error(y_test, y_pred)"
   ]
  },
  {
   "cell_type": "code",
   "execution_count": 8,
   "metadata": {},
   "outputs": [
    {
     "name": "stdout",
     "output_type": "stream",
     "text": [
      "LinearRegression()\n"
     ]
    },
    {
     "data": {
      "image/png": "[encoded data removed]",
      "text/plain": [
       "<Figure size 640x480 with 1 Axes>"
      ]
     },
     "metadata": {},
     "output_type": "display_data"
    },
    {
     "name": "stdout",
     "output_type": "stream",
     "text": [
      "score =  0.0038837782759886252\n",
      "Mean Squared Error: 0.772337564880611\n",
      "Root Mean Squared Error: 0.878827380593374\n",
      "SVR(C=0.5, degree=5)\n"
     ]
    },
    {
     "name": "stderr",
     "output_type": "stream",
     "text": [
      "c:\\Users\\Alhou\\AppData\\Local\\Programs\\Python\\Python310\\lib\\site-packages\\sklearn\\utils\\validation.py:1143: DataConversionWarning: A column-vector y was passed when a 1d array was expected. Please change the shape of y to (n_samples, ), for example using ravel().\n",
      "  y = column_or_1d(y, warn=True)\n"
     ]
    },
    {
     "data": {
      "image/png": "[encoded data removed]",
      "text/plain": [
       "<Figure size 640x480 with 1 Axes>"
      ]
     },
     "metadata": {},
     "output_type": "display_data"
    },
    {
     "name": "stdout",
     "output_type": "stream",
     "text": [
      "score =  0.07127203690314654\n",
      "Mean Squared Error: 0.7200881561925712\n",
      "Root Mean Squared Error: 0.8485800823685241\n"
     ]
    }
   ],
   "source": [
    "import random\n",
    "import math\n",
    "import numpy as np\n",
    "import matplotlib.pyplot as plt\n",
    "from sklearn.metrics import mean_squared_error \n",
    "# make data\n",
    "random.seed(123)\n",
    "def getData(N):\n",
    " x,y = [],[]\n",
    " for i in range(N):  \n",
    "  a = i/10+random.uniform(-1,1)\n",
    "  yy = math.sin(a)+3+random.uniform(-1,1)\n",
    "  x.append([a])\n",
    "  y.append([yy])  \n",
    " return np.array(x), np.array(y)\n",
    "x,y = getData(200)\n",
    "######################################################\n",
    "#apply linear regression\n",
    "from sklearn.linear_model import LinearRegression\n",
    "model = LinearRegression()\n",
    "print(model)\n",
    "model.fit(x,y)\n",
    "pred_y = model.predict(x)\n",
    "x_ax=range(200)\n",
    "plt.scatter(x_ax, y, s=5, color=\"blue\", label=\"original\")\n",
    "plt.plot(x_ax, pred_y, lw=1.5, color=\"red\", label=\"predicted\")\n",
    "plt.legend()\n",
    "plt.show() \n",
    "score=model.score(x,y)\n",
    "print('score = ' ,score)\n",
    "mse =mean_squared_error(y, pred_y)\n",
    "print(\"Mean Squared Error:\",mse)\n",
    "rmse = math.sqrt(mse)\n",
    "print(\"Root Mean Squared Error:\", rmse)\n",
    "######################################################\n",
    "#apply SVR\n",
    "from sklearn.svm import SVR \n",
    "model = SVR(C = 0.5 , degree = 5)\n",
    "print(model)\n",
    "model.fit(x,y)\n",
    "pred_y = model.predict(x)\n",
    "x_ax=range(200)\n",
    "plt.scatter(x_ax, y, s=5, color=\"blue\", label=\"original\")\n",
    "plt.plot(x_ax, pred_y, lw=1.5, color=\"red\", label=\"predicted\")\n",
    "plt.legend()\n",
    "plt.show() \n",
    "score=model.score(x,y)\n",
    "print('score = ' ,score)\n",
    "mse =mean_squared_error(y, pred_y)\n",
    "print(\"Mean Squared Error:\",mse)\n",
    "rmse = math.sqrt(mse)\n",
    "print(\"Root Mean Squared Error:\", rmse)"
   ]
  },
  {
   "cell_type": "code",
   "execution_count": null,
   "metadata": {},
   "outputs": [],
   "source": []
  }
 ],
 "metadata": {
  "kernelspec": {
   "display_name": "Python 3",
   "language": "python",
   "name": "python3"
  },
  "language_info": {
   "codemirror_mode": {
    "name": "ipython",
    "version": 3
   },
   "file_extension": ".py",
   "mimetype": "text/x-python",
   "name": "python",
   "nbconvert_exporter": "python",
   "pygments_lexer": "ipython3",
   "version": "3.10.0"
  },
  "orig_nbformat": 4,
  "vscode": {
   "interpreter": {
    "hash": "f14a256fa5d2abe453c482b40db541c720d938562dda362430172368847a78a4"
   }
  }
 },
 "nbformat": 4,
 "nbformat_minor": 2
}
