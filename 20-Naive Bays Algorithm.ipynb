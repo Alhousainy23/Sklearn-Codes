{
 "cells": [
  {
   "attachments": {},
   "cell_type": "markdown",
   "metadata": {},
   "source": [
    "## 1- Breast Cancer Data By Using Naive Bays Algorithm"
   ]
  },
  {
   "cell_type": "code",
   "execution_count": 1,
   "metadata": {},
   "outputs": [
    {
     "name": "stdout",
     "output_type": "stream",
     "text": [
      "GaussianNBModel Train Score is :  0.9343832020997376\n",
      "GaussianNBModel Test Score is :  0.9308510638297872\n",
      "----------------------------------------------------\n",
      "Predicted Value for GaussianNBModel is :  [0 0 1 0 1 1 1 1 0 1]\n",
      "Prediction Probabilities Value for GaussianNBModel is :  [[9.80038849e-01 1.99611509e-02]\n",
      " [1.00000000e+00 1.28886648e-66]\n",
      " [1.64379739e-14 1.00000000e+00]\n",
      " [1.00000000e+00 6.52702365e-85]\n",
      " [9.83205985e-07 9.99999017e-01]\n",
      " [4.68726269e-12 1.00000000e+00]\n",
      " [2.17528719e-16 1.00000000e+00]\n",
      " [3.55241988e-03 9.96447580e-01]\n",
      " [1.00000000e+00 2.43541071e-23]\n",
      " [1.05918439e-11 1.00000000e+00]]\n",
      "Confusion Matrix is : \n",
      " [[ 62   6]\n",
      " [  7 113]]\n"
     ]
    },
    {
     "data": {
      "image/png": "[encoded data removed]",
      "text/plain": [
       "<Figure size 640x480 with 2 Axes>"
      ]
     },
     "metadata": {},
     "output_type": "display_data"
    }
   ],
   "source": [
    "#Import Libraries\n",
    "from sklearn.datasets import load_breast_cancer\n",
    "from sklearn.model_selection import train_test_split\n",
    "from sklearn.naive_bayes import GaussianNB\n",
    "from sklearn.metrics import confusion_matrix\n",
    "import seaborn as sns\n",
    "import matplotlib.pyplot as plt\n",
    "#----------------------------------------------------\n",
    "#load breast cancer data\n",
    "BreastData = load_breast_cancer()\n",
    "#X Data\n",
    "X = BreastData.data\n",
    "#print('X Data is \\n' , X[:10])\n",
    "#print('X shape is ' , X.shape)\n",
    "#print('X Features are \\n' , BreastData.feature_names)\n",
    "#y Data\n",
    "y = BreastData.target\n",
    "#print('y Data is \\n' , y[:10])\n",
    "#print('y shape is ' , y.shape)\n",
    "#print('y Columns are \\n' , BreastData.target_names)\n",
    "#----------------------------------------------------\n",
    "#Splitting data\n",
    "X_train, X_test, y_train, y_test = train_test_split(X, y, test_size=0.33, random_state=44, shuffle =True)\n",
    "#Splitted Data\n",
    "#print('X_train shape is ' , X_train.shape)\n",
    "#print('X_test shape is ' , X_test.shape)\n",
    "#print('y_train shape is ' , y_train.shape)\n",
    "#print('y_test shape is ' , y_test.shape)\n",
    "#----------------------------------------------------\n",
    "#Applying GaussianNB Model \n",
    "'''#sklearn.naive_bayes.GaussianNB(priors=None, var_smoothing=1e-09)'''\n",
    "GaussianNBModel = GaussianNB()\n",
    "GaussianNBModel.fit(X_train, y_train)\n",
    "#Calculating Details\n",
    "print('GaussianNBModel Train Score is : ' , GaussianNBModel.score(X_train, y_train))\n",
    "print('GaussianNBModel Test Score is : ' , GaussianNBModel.score(X_test, y_test))\n",
    "print('----------------------------------------------------')\n",
    "#Calculating Prediction\n",
    "y_pred = GaussianNBModel.predict(X_test)\n",
    "y_pred_prob = GaussianNBModel.predict_proba(X_test)\n",
    "print('Predicted Value for GaussianNBModel is : ' , y_pred[:10])\n",
    "print('Prediction Probabilities Value for GaussianNBModel is : ' , y_pred_prob[:10])\n",
    "#----------------------------------------------------\n",
    "#Calculating Confusion Matrix\n",
    "CM = confusion_matrix(y_test, y_pred)\n",
    "print('Confusion Matrix is : \\n', CM)\n",
    "# drawing confusion matrix\n",
    "sns.heatmap(CM, center = True)\n",
    "plt.show()"
   ]
  },
  {
   "attachments": {},
   "cell_type": "markdown",
   "metadata": {},
   "source": [
    "## 2 - Example Two Using Naive Bays Algorithm"
   ]
  },
  {
   "cell_type": "code",
   "execution_count": 2,
   "metadata": {},
   "outputs": [
    {
     "name": "stdout",
     "output_type": "stream",
     "text": [
      "[1]\n"
     ]
    }
   ],
   "source": [
    "import numpy as np\n",
    "X = np.array([[-1, -1], [-2, -1], [-3, -2], [1, 1], [2, 1], [3, 2]])\n",
    "Y = np.array([1, 1, 1, 2, 2, 2])\n",
    "from sklearn.naive_bayes import GaussianNB\n",
    "clf = GaussianNB()\n",
    "clf.fit(X, Y)\n",
    "print(clf.predict([[-0.8, -1]]))"
   ]
  },
  {
   "attachments": {},
   "cell_type": "markdown",
   "metadata": {},
   "source": [
    "## 3 - Example Three Hearts Data By Using Naive Bays"
   ]
  },
  {
   "cell_type": "code",
   "execution_count": 3,
   "metadata": {},
   "outputs": [
    {
     "data": {
      "image/png": "[encoded data removed]",
      "text/plain": [
       "<Figure size 640x480 with 2 Axes>"
      ]
     },
     "metadata": {},
     "output_type": "display_data"
    }
   ],
   "source": [
    "import matplotlib.pyplot as plt\n",
    "import pandas as pd\n",
    "dataset = pd.read_csv('D:\\\\AI\\\\10 القسم العاشر  مكتبة سايكيتليرن Sklearn Library\\\\Materials\\\\Data\\\\2.12 NB\\\\heart.csv')\n",
    "X = dataset.iloc[:, :-1].values\n",
    "y = dataset.iloc[:, -1].values\n",
    "from sklearn.model_selection import train_test_split\n",
    "X_train, X_test, y_train, y_test = train_test_split(X, y, test_size = 0.25, random_state = 0)\n",
    "from sklearn.preprocessing import StandardScaler\n",
    "sc = StandardScaler()\n",
    "X_train = sc.fit_transform(X_train)\n",
    "X_test = sc.transform(X_test)\n",
    "from sklearn.naive_bayes import GaussianNB\n",
    "classifier = GaussianNB()\n",
    "classifier.fit(X_train, y_train)\n",
    "y_pred = classifier.predict(X_test)\n",
    "from sklearn.metrics import confusion_matrix\n",
    "cm = confusion_matrix(y_test, y_pred)\n",
    "import seaborn as sns\n",
    "sns.heatmap(cm, center=True)\n",
    "plt.show()"
   ]
  },
  {
   "attachments": {},
   "cell_type": "markdown",
   "metadata": {},
   "source": [
    "## 4- Load Breast Cancer Data And Apply Naive Bayes Algorithm"
   ]
  },
  {
   "cell_type": "code",
   "execution_count": 4,
   "metadata": {},
   "outputs": [
    {
     "name": "stdout",
     "output_type": "stream",
     "text": [
      "MultinomialNBModel Train Score is :  0.8713910761154856\n",
      "MultinomialNBModel Test Score is :  0.9414893617021277\n",
      "----------------------------------------------------\n",
      "Predicted Value for MultinomialNBModel is :  [0 0 1 0 1 1 1 1 0 1]\n",
      "Prediction Probabilities Value for MultinomialNBModel is :  [[9.99702634e-01 2.97366413e-04]\n",
      " [1.00000000e+00 3.11802439e-30]\n",
      " [1.37208238e-15 1.00000000e+00]\n",
      " [1.00000000e+00 1.77732591e-49]\n",
      " [2.08862645e-08 9.99999979e-01]\n",
      " [1.05373846e-06 9.99998946e-01]\n",
      " [1.06045751e-08 9.99999989e-01]\n",
      " [7.08302894e-02 9.29169711e-01]\n",
      " [9.99999881e-01 1.19378600e-07]\n",
      " [3.68354635e-16 1.00000000e+00]]\n",
      "Confusion Matrix is : \n",
      " [[ 61   7]\n",
      " [  4 116]]\n"
     ]
    },
    {
     "data": {
      "image/png": "[encoded data removed]",
      "text/plain": [
       "<Figure size 640x480 with 2 Axes>"
      ]
     },
     "metadata": {},
     "output_type": "display_data"
    }
   ],
   "source": [
    "#Import Libraries\n",
    "from sklearn.datasets import load_breast_cancer\n",
    "from sklearn.model_selection import train_test_split\n",
    "from sklearn.naive_bayes import MultinomialNB\n",
    "from sklearn.metrics import confusion_matrix\n",
    "import seaborn as sns\n",
    "import matplotlib.pyplot as plt\n",
    "#----------------------------------------------------\n",
    "#load breast cancer data\n",
    "BreastData = load_breast_cancer()\n",
    "#X Data\n",
    "X = BreastData.data\n",
    "#print('X Data is \\n' , X[:10])\n",
    "#print('X shape is ' , X.shape)\n",
    "#print('X Features are \\n' , BreastData.feature_names)\n",
    "#y Data\n",
    "y = BreastData.target\n",
    "#print('y Data is \\n' , y[:10])\n",
    "#print('y shape is ' , y.shape)\n",
    "#print('y Columns are \\n' , BreastData.target_names)\n",
    "#----------------------------------------------------\n",
    "#Splitting data\n",
    "X_train, X_test, y_train, y_test = train_test_split(X, y, test_size=0.33, random_state=44, shuffle =True)\n",
    "#Splitted Data\n",
    "#print('X_train shape is ' , X_train.shape)\n",
    "#print('X_test shape is ' , X_test.shape)\n",
    "#print('y_train shape is ' , y_train.shape)\n",
    "#print('y_test shape is ' , y_test.shape)\n",
    "#----------------------------------------------------\n",
    "#Applying MultinomialNB Model \n",
    "'''\n",
    "#naive_bayes.MultinomialNB(alpha=1.0, fit_prior=True, class_prior=None)\n",
    "'''\n",
    "MultinomialNBModel = MultinomialNB(alpha=1.0)\n",
    "MultinomialNBModel.fit(X_train, y_train)\n",
    "#Calculating Details\n",
    "print('MultinomialNBModel Train Score is : ' , MultinomialNBModel.score(X_train, y_train))\n",
    "print('MultinomialNBModel Test Score is : ' , MultinomialNBModel.score(X_test, y_test))\n",
    "print('----------------------------------------------------')\n",
    "#Calculating Prediction\n",
    "y_pred = MultinomialNBModel.predict(X_test)\n",
    "y_pred_prob = MultinomialNBModel.predict_proba(X_test)\n",
    "print('Predicted Value for MultinomialNBModel is : ' , y_pred[:10])\n",
    "print('Prediction Probabilities Value for MultinomialNBModel is : ' , y_pred_prob[:10])\n",
    "#----------------------------------------------------\n",
    "#Calculating Confusion Matrix\n",
    "CM = confusion_matrix(y_test, y_pred)\n",
    "print('Confusion Matrix is : \\n', CM)\n",
    "# drawing confusion matrix\n",
    "sns.heatmap(CM, center = True)\n",
    "plt.show()"
   ]
  },
  {
   "attachments": {},
   "cell_type": "markdown",
   "metadata": {},
   "source": [
    "## 5 - Another Example"
   ]
  },
  {
   "cell_type": "code",
   "execution_count": 5,
   "metadata": {},
   "outputs": [
    {
     "name": "stdout",
     "output_type": "stream",
     "text": [
      "1.0\n",
      "[3]\n"
     ]
    }
   ],
   "source": [
    "import numpy as np\n",
    "X = np.random.randint(5, size=(6, 100))\n",
    "y = np.array([1, 2, 3, 4, 5, 6])\n",
    "from sklearn.naive_bayes import MultinomialNB\n",
    "clf = MultinomialNB()\n",
    "clf.fit(X, y)\n",
    "print(clf.score(X,y))\n",
    "print(clf.predict(X[2:3]))"
   ]
  },
  {
   "attachments": {},
   "cell_type": "markdown",
   "metadata": {},
   "source": [
    "## 6 - Another Example\n"
   ]
  },
  {
   "cell_type": "code",
   "execution_count": 6,
   "metadata": {},
   "outputs": [
    {
     "name": "stdout",
     "output_type": "stream",
     "text": [
      "BernoulliNBModel Train Score is :  0.6614173228346457\n",
      "BernoulliNBModel Test Score is :  0.6808510638297872\n",
      "----------------------------------------------------\n",
      "Predicted Value for BernoulliNBModel is :  [1 1 1 1 1 1 1 1 1 1]\n",
      "Prediction Probabilities Value for BernoulliNBModel is :  [[0.32902885 0.67097115]\n",
      " [0.34468314 0.65531686]\n",
      " [0.34468314 0.65531686]\n",
      " [0.32902885 0.67097115]\n",
      " [0.34468314 0.65531686]\n",
      " [0.34468314 0.65531686]\n",
      " [0.32902885 0.67097115]\n",
      " [0.32902885 0.67097115]\n",
      " [0.32902885 0.67097115]\n",
      " [0.32902885 0.67097115]]\n",
      "Confusion Matrix is : \n",
      " [[  9  59]\n",
      " [  1 119]]\n"
     ]
    },
    {
     "data": {
      "image/png": "[encoded data removed]",
      "text/plain": [
       "<Figure size 640x480 with 2 Axes>"
      ]
     },
     "metadata": {},
     "output_type": "display_data"
    }
   ],
   "source": [
    "#Import Libraries\n",
    "from sklearn.datasets import load_breast_cancer\n",
    "from sklearn.model_selection import train_test_split\n",
    "from sklearn.naive_bayes import BernoulliNB\n",
    "from sklearn.metrics import confusion_matrix\n",
    "import seaborn as sns\n",
    "import matplotlib.pyplot as plt\n",
    "#----------------------------------------------------\n",
    "#load breast cancer data\n",
    "BreastData = load_breast_cancer()\n",
    "#X Data\n",
    "X = BreastData.data\n",
    "#print('X Data is \\n' , X[:10])\n",
    "#print('X shape is ' , X.shape)\n",
    "#print('X Features are \\n' , BreastData.feature_names)\n",
    "#y Data\n",
    "y = BreastData.target\n",
    "#print('y Data is \\n' , y[:10])\n",
    "#print('y shape is ' , y.shape)\n",
    "#print('y Columns are \\n' , BreastData.target_names)\n",
    "#----------------------------------------------------\n",
    "#Splitting data\n",
    "X_train, X_test, y_train, y_test = train_test_split(X, y, test_size=0.33, random_state=44, shuffle =True)\n",
    "#Splitted Data\n",
    "#print('X_train shape is ' , X_train.shape)\n",
    "#print('X_test shape is ' , X_test.shape)\n",
    "#print('y_train shape is ' , y_train.shape)\n",
    "#print('y_test shape is ' , y_test.shape)\n",
    "#----------------------------------------------------\n",
    "#Applying BernoulliNB Model \n",
    "'''sklearn.naive_bayes.BernoulliNB(alpha=1.0, binarize=0.0, fit_prior=True,class_prior=None)'''\n",
    "BernoulliNBModel = BernoulliNB(alpha=1.0,binarize=1)\n",
    "BernoulliNBModel.fit(X_train, y_train)\n",
    "#Calculating Details\n",
    "print('BernoulliNBModel Train Score is : ' , BernoulliNBModel.score(X_train, y_train))\n",
    "print('BernoulliNBModel Test Score is : ' , BernoulliNBModel.score(X_test, y_test))\n",
    "print('----------------------------------------------------')\n",
    "#Calculating Prediction\n",
    "y_pred = BernoulliNBModel.predict(X_test)\n",
    "y_pred_prob = BernoulliNBModel.predict_proba(X_test)\n",
    "print('Predicted Value for BernoulliNBModel is : ' , y_pred[:10])\n",
    "print('Prediction Probabilities Value for BernoulliNBModel is : ' , y_pred_prob[:10])\n",
    "#----------------------------------------------------\n",
    "#Calculating Confusion Matrix\n",
    "CM = confusion_matrix(y_test, y_pred)\n",
    "print('Confusion Matrix is : \\n', CM)\n",
    "# drawing confusion matrix\n",
    "sns.heatmap(CM, center = True)\n",
    "plt.show()"
   ]
  }
 ],
 "metadata": {
  "kernelspec": {
   "display_name": "Python 3",
   "language": "python",
   "name": "python3"
  },
  "language_info": {
   "codemirror_mode": {
    "name": "ipython",
    "version": 3
   },
   "file_extension": ".py",
   "mimetype": "text/x-python",
   "name": "python",
   "nbconvert_exporter": "python",
   "pygments_lexer": "ipython3",
   "version": "3.10.0"
  },
  "orig_nbformat": 4,
  "vscode": {
   "interpreter": {
    "hash": "f14a256fa5d2abe453c482b40db541c720d938562dda362430172368847a78a4"
   }
  }
 },
 "nbformat": 4,
 "nbformat_minor": 2
}
